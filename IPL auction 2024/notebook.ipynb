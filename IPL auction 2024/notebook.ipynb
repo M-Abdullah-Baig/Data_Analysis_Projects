{
 "cells": [
  {
   "cell_type": "markdown",
   "id": "829cd420",
   "metadata": {},
   "source": [
    "# IPL auction 2024"
   ]
  },
  {
   "cell_type": "markdown",
   "id": "c8c44df6",
   "metadata": {},
   "source": [
    "## Import Libraries"
   ]
  },
  {
   "cell_type": "code",
   "execution_count": 41,
   "id": "26d587f0",
   "metadata": {},
   "outputs": [],
   "source": [
    "import warnings\n",
    "\n",
    "import numpy as np\n",
    "import pandas as pd\n",
    "import matplotlib.pyplot as plt\n",
    "import seaborn as sns"
   ]
  },
  {
   "cell_type": "markdown",
   "id": "94d5a47d",
   "metadata": {},
   "source": [
    "## Data Pre-processing"
   ]
  },
  {
   "cell_type": "code",
   "execution_count": 2,
   "id": "4bdfca61",
   "metadata": {},
   "outputs": [
    {
     "data": {
      "text/html": [
       "<div>\n",
       "<style scoped>\n",
       "    .dataframe tbody tr th:only-of-type {\n",
       "        vertical-align: middle;\n",
       "    }\n",
       "\n",
       "    .dataframe tbody tr th {\n",
       "        vertical-align: top;\n",
       "    }\n",
       "\n",
       "    .dataframe thead th {\n",
       "        text-align: right;\n",
       "    }\n",
       "</style>\n",
       "<table border=\"1\" class=\"dataframe\">\n",
       "  <thead>\n",
       "    <tr style=\"text-align: right;\">\n",
       "      <th></th>\n",
       "      <th>PLAYER</th>\n",
       "      <th>NATIONALITY</th>\n",
       "      <th>TYPE</th>\n",
       "      <th>TEAM</th>\n",
       "      <th>PRICE PAID</th>\n",
       "    </tr>\n",
       "  </thead>\n",
       "  <tbody>\n",
       "    <tr>\n",
       "      <th>0</th>\n",
       "      <td>Daryl Mitchell</td>\n",
       "      <td>Overseas</td>\n",
       "      <td>All-Rounder</td>\n",
       "      <td>Chennai Super Kings</td>\n",
       "      <td>140000000</td>\n",
       "    </tr>\n",
       "    <tr>\n",
       "      <th>1</th>\n",
       "      <td>Sameer Rizvi</td>\n",
       "      <td>Indian</td>\n",
       "      <td>Batter</td>\n",
       "      <td>Chennai Super Kings</td>\n",
       "      <td>84000000</td>\n",
       "    </tr>\n",
       "    <tr>\n",
       "      <th>2</th>\n",
       "      <td>Shardul Thakur</td>\n",
       "      <td>Indian</td>\n",
       "      <td>All-Rounder</td>\n",
       "      <td>Chennai Super Kings</td>\n",
       "      <td>40000000</td>\n",
       "    </tr>\n",
       "    <tr>\n",
       "      <th>3</th>\n",
       "      <td>Mustafizur Rahman</td>\n",
       "      <td>Overseas</td>\n",
       "      <td>Bowler</td>\n",
       "      <td>Chennai Super Kings</td>\n",
       "      <td>20000000</td>\n",
       "    </tr>\n",
       "    <tr>\n",
       "      <th>4</th>\n",
       "      <td>Rachin Ravindra</td>\n",
       "      <td>Overseas</td>\n",
       "      <td>All-Rounder</td>\n",
       "      <td>Chennai Super Kings</td>\n",
       "      <td>18000000</td>\n",
       "    </tr>\n",
       "    <tr>\n",
       "      <th>5</th>\n",
       "      <td>Avanish Rao Aravelly</td>\n",
       "      <td>Indian</td>\n",
       "      <td>Wicket-Keeper</td>\n",
       "      <td>Chennai Super Kings</td>\n",
       "      <td>2000000</td>\n",
       "    </tr>\n",
       "    <tr>\n",
       "      <th>6</th>\n",
       "      <td>Kumar Kushagra</td>\n",
       "      <td>Indian</td>\n",
       "      <td>Wicket-Keeper</td>\n",
       "      <td>Delhi Capitals</td>\n",
       "      <td>72000000</td>\n",
       "    </tr>\n",
       "    <tr>\n",
       "      <th>7</th>\n",
       "      <td>Jhye Richardson</td>\n",
       "      <td>Overseas</td>\n",
       "      <td>Bowler</td>\n",
       "      <td>Delhi Capitals</td>\n",
       "      <td>50000000</td>\n",
       "    </tr>\n",
       "    <tr>\n",
       "      <th>8</th>\n",
       "      <td>Harry Brook</td>\n",
       "      <td>Overseas</td>\n",
       "      <td>Batter</td>\n",
       "      <td>Delhi Capitals</td>\n",
       "      <td>40000000</td>\n",
       "    </tr>\n",
       "    <tr>\n",
       "      <th>9</th>\n",
       "      <td>Sumit Kumar</td>\n",
       "      <td>Indian</td>\n",
       "      <td>All-Rounder</td>\n",
       "      <td>Delhi Capitals</td>\n",
       "      <td>10000000</td>\n",
       "    </tr>\n",
       "  </tbody>\n",
       "</table>\n",
       "</div>"
      ],
      "text/plain": [
       "                 PLAYER NATIONALITY           TYPE                 TEAM  \\\n",
       "0        Daryl Mitchell    Overseas    All-Rounder  Chennai Super Kings   \n",
       "1          Sameer Rizvi      Indian         Batter  Chennai Super Kings   \n",
       "2        Shardul Thakur      Indian    All-Rounder  Chennai Super Kings   \n",
       "3     Mustafizur Rahman    Overseas         Bowler  Chennai Super Kings   \n",
       "4       Rachin Ravindra    Overseas    All-Rounder  Chennai Super Kings   \n",
       "5  Avanish Rao Aravelly      Indian  Wicket-Keeper  Chennai Super Kings   \n",
       "6        Kumar Kushagra      Indian  Wicket-Keeper       Delhi Capitals   \n",
       "7       Jhye Richardson    Overseas         Bowler       Delhi Capitals   \n",
       "8           Harry Brook    Overseas         Batter       Delhi Capitals   \n",
       "9           Sumit Kumar      Indian    All-Rounder       Delhi Capitals   \n",
       "\n",
       "   PRICE PAID  \n",
       "0   140000000  \n",
       "1    84000000  \n",
       "2    40000000  \n",
       "3    20000000  \n",
       "4    18000000  \n",
       "5     2000000  \n",
       "6    72000000  \n",
       "7    50000000  \n",
       "8    40000000  \n",
       "9    10000000  "
      ]
     },
     "execution_count": 2,
     "metadata": {},
     "output_type": "execute_result"
    }
   ],
   "source": [
    "data = pd.read_csv(\"auction.csv\")\n",
    "data.head(10)"
   ]
  },
  {
   "cell_type": "code",
   "execution_count": 3,
   "id": "1af844e1",
   "metadata": {},
   "outputs": [],
   "source": [
    "# Price is in pkr\n",
    "\n",
    "data['PRICE PAID'] = data['PRICE PAID'] * 3.33"
   ]
  },
  {
   "cell_type": "code",
   "execution_count": 4,
   "id": "19359a8b",
   "metadata": {},
   "outputs": [
    {
     "data": {
      "text/html": [
       "<div>\n",
       "<style scoped>\n",
       "    .dataframe tbody tr th:only-of-type {\n",
       "        vertical-align: middle;\n",
       "    }\n",
       "\n",
       "    .dataframe tbody tr th {\n",
       "        vertical-align: top;\n",
       "    }\n",
       "\n",
       "    .dataframe thead th {\n",
       "        text-align: right;\n",
       "    }\n",
       "</style>\n",
       "<table border=\"1\" class=\"dataframe\">\n",
       "  <thead>\n",
       "    <tr style=\"text-align: right;\">\n",
       "      <th></th>\n",
       "      <th>PLAYER</th>\n",
       "      <th>NATIONALITY</th>\n",
       "      <th>TYPE</th>\n",
       "      <th>TEAM</th>\n",
       "      <th>PRICE PAID</th>\n",
       "    </tr>\n",
       "  </thead>\n",
       "  <tbody>\n",
       "    <tr>\n",
       "      <th>0</th>\n",
       "      <td>Daryl Mitchell</td>\n",
       "      <td>Overseas</td>\n",
       "      <td>All-Rounder</td>\n",
       "      <td>Chennai Super Kings</td>\n",
       "      <td>466200000.0</td>\n",
       "    </tr>\n",
       "    <tr>\n",
       "      <th>1</th>\n",
       "      <td>Sameer Rizvi</td>\n",
       "      <td>Indian</td>\n",
       "      <td>Batter</td>\n",
       "      <td>Chennai Super Kings</td>\n",
       "      <td>279720000.0</td>\n",
       "    </tr>\n",
       "    <tr>\n",
       "      <th>2</th>\n",
       "      <td>Shardul Thakur</td>\n",
       "      <td>Indian</td>\n",
       "      <td>All-Rounder</td>\n",
       "      <td>Chennai Super Kings</td>\n",
       "      <td>133200000.0</td>\n",
       "    </tr>\n",
       "    <tr>\n",
       "      <th>3</th>\n",
       "      <td>Mustafizur Rahman</td>\n",
       "      <td>Overseas</td>\n",
       "      <td>Bowler</td>\n",
       "      <td>Chennai Super Kings</td>\n",
       "      <td>66600000.0</td>\n",
       "    </tr>\n",
       "    <tr>\n",
       "      <th>4</th>\n",
       "      <td>Rachin Ravindra</td>\n",
       "      <td>Overseas</td>\n",
       "      <td>All-Rounder</td>\n",
       "      <td>Chennai Super Kings</td>\n",
       "      <td>59940000.0</td>\n",
       "    </tr>\n",
       "  </tbody>\n",
       "</table>\n",
       "</div>"
      ],
      "text/plain": [
       "              PLAYER NATIONALITY         TYPE                 TEAM  \\\n",
       "0     Daryl Mitchell    Overseas  All-Rounder  Chennai Super Kings   \n",
       "1       Sameer Rizvi      Indian       Batter  Chennai Super Kings   \n",
       "2     Shardul Thakur      Indian  All-Rounder  Chennai Super Kings   \n",
       "3  Mustafizur Rahman    Overseas       Bowler  Chennai Super Kings   \n",
       "4    Rachin Ravindra    Overseas  All-Rounder  Chennai Super Kings   \n",
       "\n",
       "    PRICE PAID  \n",
       "0  466200000.0  \n",
       "1  279720000.0  \n",
       "2  133200000.0  \n",
       "3   66600000.0  \n",
       "4   59940000.0  "
      ]
     },
     "execution_count": 4,
     "metadata": {},
     "output_type": "execute_result"
    }
   ],
   "source": [
    "data.head()"
   ]
  },
  {
   "cell_type": "code",
   "execution_count": 5,
   "id": "26726cf1",
   "metadata": {},
   "outputs": [
    {
     "data": {
      "text/html": [
       "<div>\n",
       "<style scoped>\n",
       "    .dataframe tbody tr th:only-of-type {\n",
       "        vertical-align: middle;\n",
       "    }\n",
       "\n",
       "    .dataframe tbody tr th {\n",
       "        vertical-align: top;\n",
       "    }\n",
       "\n",
       "    .dataframe thead th {\n",
       "        text-align: right;\n",
       "    }\n",
       "</style>\n",
       "<table border=\"1\" class=\"dataframe\">\n",
       "  <thead>\n",
       "    <tr style=\"text-align: right;\">\n",
       "      <th></th>\n",
       "      <th>PRICE PAID</th>\n",
       "    </tr>\n",
       "  </thead>\n",
       "  <tbody>\n",
       "    <tr>\n",
       "      <th>count</th>\n",
       "      <td>7.200000e+01</td>\n",
       "    </tr>\n",
       "    <tr>\n",
       "      <th>mean</th>\n",
       "      <td>1.065831e+08</td>\n",
       "    </tr>\n",
       "    <tr>\n",
       "      <th>std</th>\n",
       "      <td>1.551709e+08</td>\n",
       "    </tr>\n",
       "    <tr>\n",
       "      <th>min</th>\n",
       "      <td>6.660000e+06</td>\n",
       "    </tr>\n",
       "    <tr>\n",
       "      <th>25%</th>\n",
       "      <td>6.660000e+06</td>\n",
       "    </tr>\n",
       "    <tr>\n",
       "      <th>50%</th>\n",
       "      <td>4.162500e+07</td>\n",
       "    </tr>\n",
       "    <tr>\n",
       "      <th>75%</th>\n",
       "      <td>1.615050e+08</td>\n",
       "    </tr>\n",
       "    <tr>\n",
       "      <th>max</th>\n",
       "      <td>8.241750e+08</td>\n",
       "    </tr>\n",
       "  </tbody>\n",
       "</table>\n",
       "</div>"
      ],
      "text/plain": [
       "         PRICE PAID\n",
       "count  7.200000e+01\n",
       "mean   1.065831e+08\n",
       "std    1.551709e+08\n",
       "min    6.660000e+06\n",
       "25%    6.660000e+06\n",
       "50%    4.162500e+07\n",
       "75%    1.615050e+08\n",
       "max    8.241750e+08"
      ]
     },
     "execution_count": 5,
     "metadata": {},
     "output_type": "execute_result"
    }
   ],
   "source": [
    "# Descriptive Statistics of dataset\n",
    "\n",
    "data.describe()"
   ]
  },
  {
   "cell_type": "code",
   "execution_count": 6,
   "id": "3668b886",
   "metadata": {},
   "outputs": [
    {
     "name": "stdout",
     "output_type": "stream",
     "text": [
      "<class 'pandas.core.frame.DataFrame'>\n",
      "RangeIndex: 72 entries, 0 to 71\n",
      "Data columns (total 5 columns):\n",
      " #   Column       Non-Null Count  Dtype  \n",
      "---  ------       --------------  -----  \n",
      " 0   PLAYER       72 non-null     object \n",
      " 1   NATIONALITY  72 non-null     object \n",
      " 2   TYPE         72 non-null     object \n",
      " 3   TEAM         72 non-null     object \n",
      " 4   PRICE PAID   72 non-null     float64\n",
      "dtypes: float64(1), object(4)\n",
      "memory usage: 2.9+ KB\n"
     ]
    }
   ],
   "source": [
    "# Information of dataset\n",
    "\n",
    "data.info()"
   ]
  },
  {
   "cell_type": "code",
   "execution_count": 7,
   "id": "a375c359",
   "metadata": {},
   "outputs": [
    {
     "data": {
      "text/plain": [
       "PLAYER         72\n",
       "NATIONALITY    72\n",
       "TYPE           72\n",
       "TEAM           72\n",
       "PRICE PAID     72\n",
       "dtype: int64"
      ]
     },
     "execution_count": 7,
     "metadata": {},
     "output_type": "execute_result"
    }
   ],
   "source": [
    "# Total count in a dataset\n",
    "\n",
    "data.count()"
   ]
  },
  {
   "cell_type": "code",
   "execution_count": 8,
   "id": "0a12e520",
   "metadata": {},
   "outputs": [
    {
     "data": {
      "text/plain": [
       "False"
      ]
     },
     "execution_count": 8,
     "metadata": {},
     "output_type": "execute_result"
    }
   ],
   "source": [
    "# Check for duplicates\n",
    "\n",
    "data.duplicated().any()     "
   ]
  },
  {
   "cell_type": "code",
   "execution_count": 9,
   "id": "80b08125",
   "metadata": {},
   "outputs": [
    {
     "data": {
      "text/plain": [
       "0"
      ]
     },
     "execution_count": 9,
     "metadata": {},
     "output_type": "execute_result"
    }
   ],
   "source": [
    "data.duplicated().sum()    # no duplicates"
   ]
  },
  {
   "cell_type": "code",
   "execution_count": 10,
   "id": "df78f7c8",
   "metadata": {},
   "outputs": [
    {
     "data": {
      "text/plain": [
       "0          Daryl Mitchell\n",
       "3       Mustafizur Rahman\n",
       "4         Rachin Ravindra\n",
       "7         Jhye Richardson\n",
       "8             Harry Brook\n",
       "10              Shai Hope\n",
       "11         Tristan Stubbs\n",
       "15        Spencer Johnson\n",
       "21     Azmatullah Omarzai\n",
       "23         Mitchell Starc\n",
       "24          Mujeeb Rahman\n",
       "25    Sherfane Rutherford\n",
       "26           Gus Atkinson\n",
       "35           David Willey\n",
       "36          Ashton Turner\n",
       "39         Gerald Coetzee\n",
       "40         Nuwan Thushara\n",
       "41     Dilshan Madushanka\n",
       "42          Mohammad Nabi\n",
       "48          Rilee Rossouw\n",
       "49           Chris Woakes\n",
       "55          Rovman Powell\n",
       "57          Nandre Burger\n",
       "58     Tom Kohler-Cadmore\n",
       "60         Alzarri Joseph\n",
       "62        Lockie Ferguson\n",
       "63             Tom Curran\n",
       "66            Pat Cummins\n",
       "67            Travis Head\n",
       "69      Wanindu Hasaranga\n",
       "Name: PLAYER, dtype: object"
      ]
     },
     "execution_count": 10,
     "metadata": {},
     "output_type": "execute_result"
    }
   ],
   "source": [
    "O_players = data[data['NATIONALITY'] == 'Overseas']['PLAYER']\n",
    "O_players"
   ]
  },
  {
   "cell_type": "code",
   "execution_count": 11,
   "id": "55d70f41",
   "metadata": {},
   "outputs": [
    {
     "data": {
      "text/plain": [
       "30"
      ]
     },
     "execution_count": 11,
     "metadata": {},
     "output_type": "execute_result"
    }
   ],
   "source": [
    "O_players.count()"
   ]
  },
  {
   "cell_type": "code",
   "execution_count": 12,
   "id": "b234a317",
   "metadata": {},
   "outputs": [],
   "source": [
    "# According to this IPL 2024 dataset from Kaggle, there are 30 Overseas players and 52 Indian (local) players"
   ]
  },
  {
   "cell_type": "code",
   "execution_count": 13,
   "id": "08b8c520",
   "metadata": {},
   "outputs": [
    {
     "data": {
      "text/plain": [
       "array(['Chennai Super Kings', 'Delhi Capitals', 'Gujarat Titans',\n",
       "       'Kolkata Knight Riders', 'Lucknow Super Giants', 'Mumbai Indians',\n",
       "       'Punjab Kings', 'Rajasthan Royals', 'Royal Challengers Bengaluru',\n",
       "       'Sunrisers Hyderabad'], dtype=object)"
      ]
     },
     "execution_count": 13,
     "metadata": {},
     "output_type": "execute_result"
    }
   ],
   "source": [
    "TEAMS = data.TEAM\n",
    "TEAMS.unique()"
   ]
  },
  {
   "cell_type": "code",
   "execution_count": 14,
   "id": "0b0ecfac",
   "metadata": {},
   "outputs": [],
   "source": [
    "TEAMS_length = len(TEAMS.unique())   # Total teams"
   ]
  },
  {
   "cell_type": "code",
   "execution_count": 15,
   "id": "2f682f1c",
   "metadata": {},
   "outputs": [
    {
     "data": {
      "text/plain": [
       "0              Daryl Mitchell\n",
       "2              Shardul Thakur\n",
       "4             Rachin Ravindra\n",
       "9                 Sumit Kumar\n",
       "16              Shahrukh Khan\n",
       "21         Azmatullah Omarzai\n",
       "31            Ramandeep Singh\n",
       "35               David Willey\n",
       "37            Arshin Kulkarni\n",
       "38          Mohd. Arshad Khan\n",
       "39             Gerald Coetzee\n",
       "42              Mohammad Nabi\n",
       "44            Shivalik Sharma\n",
       "45              Anshul Kamboj\n",
       "46                 Naman Dhir\n",
       "47              Harshal Patel\n",
       "49               Chris Woakes\n",
       "50         Tanay Thyagarajann\n",
       "51    Vishwanath Pratap Singh\n",
       "52            Ashutosh Sharma\n",
       "59               Abid Mushtaq\n",
       "63                 Tom Curran\n",
       "65              Swapnil Singh\n",
       "66                Pat Cummins\n",
       "69          Wanindu Hasaranga\n",
       "Name: PLAYER, dtype: object"
      ]
     },
     "execution_count": 15,
     "metadata": {},
     "output_type": "execute_result"
    }
   ],
   "source": [
    "All_TYPE = data[data['TYPE'] == 'All-Rounder']['PLAYER']\n",
    "All_TYPE"
   ]
  },
  {
   "cell_type": "code",
   "execution_count": 16,
   "id": "91c3ba84",
   "metadata": {},
   "outputs": [
    {
     "data": {
      "text/plain": [
       "25"
      ]
     },
     "execution_count": 16,
     "metadata": {},
     "output_type": "execute_result"
    }
   ],
   "source": [
    "All_TYPE.count()"
   ]
  },
  {
   "cell_type": "code",
   "execution_count": 17,
   "id": "cc292d11",
   "metadata": {},
   "outputs": [
    {
     "data": {
      "text/plain": [
       "1             Sameer Rizvi\n",
       "8              Harry Brook\n",
       "13        Swastik Chhikara\n",
       "25     Sherfane Rutherford\n",
       "27           Manish Pandey\n",
       "30    Angkrish Raghuvanshi\n",
       "36           Ashton Turner\n",
       "48           Rilee Rossouw\n",
       "53          Shashank Singh\n",
       "55           Rovman Powell\n",
       "56           Shubham Dubey\n",
       "64          Saurav Chuahan\n",
       "67             Travis Head\n",
       "Name: PLAYER, dtype: object"
      ]
     },
     "execution_count": 17,
     "metadata": {},
     "output_type": "execute_result"
    }
   ],
   "source": [
    "Bat_TYPE = data[data['TYPE'] == 'Batter']['PLAYER']\n",
    "Bat_TYPE"
   ]
  },
  {
   "cell_type": "code",
   "execution_count": 18,
   "id": "54825676",
   "metadata": {},
   "outputs": [
    {
     "data": {
      "text/plain": [
       "13"
      ]
     },
     "execution_count": 18,
     "metadata": {},
     "output_type": "execute_result"
    }
   ],
   "source": [
    "Bat_TYPE.count()"
   ]
  },
  {
   "cell_type": "code",
   "execution_count": 19,
   "id": "02a616ba",
   "metadata": {},
   "outputs": [
    {
     "data": {
      "text/plain": [
       "3          Mustafizur Rahman\n",
       "7            Jhye Richardson\n",
       "14                Rasikh Dar\n",
       "15           Spencer Johnson\n",
       "17               Umesh Yadav\n",
       "19            Sushant Mishra\n",
       "20              Kartik Tyagi\n",
       "22              Manav Suthar\n",
       "23            Mitchell Starc\n",
       "24             Mujeeb Rahman\n",
       "26              Gus Atkinson\n",
       "29           Chetan Sakariya\n",
       "32             Sakib Hussain\n",
       "33               Shivam Mavi\n",
       "34              M. Siddharth\n",
       "40            Nuwan Thushara\n",
       "41        Dilshan Madushanka\n",
       "43             Shreyas Gopal\n",
       "54          Prince Choudhary\n",
       "57             Nandre Burger\n",
       "60            Alzarri Joseph\n",
       "61                Yash Dayal\n",
       "62           Lockie Ferguson\n",
       "68            Jaydev Unadkat\n",
       "70    Jhathavedh Subramanyan\n",
       "71               Akash Singh\n",
       "Name: PLAYER, dtype: object"
      ]
     },
     "execution_count": 19,
     "metadata": {},
     "output_type": "execute_result"
    }
   ],
   "source": [
    "Ball_TYPE = data[data['TYPE'] == 'Bowler']['PLAYER']\n",
    "Ball_TYPE"
   ]
  },
  {
   "cell_type": "code",
   "execution_count": 20,
   "id": "5fb53fb7",
   "metadata": {},
   "outputs": [
    {
     "data": {
      "text/plain": [
       "26"
      ]
     },
     "execution_count": 20,
     "metadata": {},
     "output_type": "execute_result"
    }
   ],
   "source": [
    "Ball_TYPE.count()"
   ]
  },
  {
   "cell_type": "code",
   "execution_count": 21,
   "id": "5fc454c1",
   "metadata": {},
   "outputs": [
    {
     "data": {
      "text/plain": [
       "5     Avanish Rao Aravelly\n",
       "6           Kumar Kushagra\n",
       "10               Shai Hope\n",
       "11          Tristan Stubbs\n",
       "12              Ricky Bhui\n",
       "18              Robin Minz\n",
       "28             K.S. Bharat\n",
       "58      Tom Kohler-Cadmore\n",
       "Name: PLAYER, dtype: object"
      ]
     },
     "execution_count": 21,
     "metadata": {},
     "output_type": "execute_result"
    }
   ],
   "source": [
    "Wick_TYPE = data[data['TYPE'] == 'Wicket-Keeper']['PLAYER']\n",
    "Wick_TYPE"
   ]
  },
  {
   "cell_type": "code",
   "execution_count": 22,
   "id": "0762a3c4",
   "metadata": {},
   "outputs": [
    {
     "data": {
      "text/plain": [
       "8"
      ]
     },
     "execution_count": 22,
     "metadata": {},
     "output_type": "execute_result"
    }
   ],
   "source": [
    "Wick_TYPE.count()"
   ]
  },
  {
   "cell_type": "code",
   "execution_count": 23,
   "id": "655956c2",
   "metadata": {},
   "outputs": [
    {
     "data": {
      "text/plain": [
       "824175000.0"
      ]
     },
     "execution_count": 23,
     "metadata": {},
     "output_type": "execute_result"
    }
   ],
   "source": [
    "data['PRICE PAID'].max()"
   ]
  },
  {
   "cell_type": "code",
   "execution_count": 24,
   "id": "fc9cf767",
   "metadata": {},
   "outputs": [
    {
     "data": {
      "text/plain": [
       "6660000.0"
      ]
     },
     "execution_count": 24,
     "metadata": {},
     "output_type": "execute_result"
    }
   ],
   "source": [
    "data['PRICE PAID'].min()"
   ]
  },
  {
   "cell_type": "markdown",
   "id": "e4bf00df",
   "metadata": {},
   "source": [
    "## Data Analysis"
   ]
  },
  {
   "cell_type": "code",
   "execution_count": 25,
   "id": "ebe3598e",
   "metadata": {},
   "outputs": [
    {
     "data": {
      "text/html": [
       "<div>\n",
       "<style scoped>\n",
       "    .dataframe tbody tr th:only-of-type {\n",
       "        vertical-align: middle;\n",
       "    }\n",
       "\n",
       "    .dataframe tbody tr th {\n",
       "        vertical-align: top;\n",
       "    }\n",
       "\n",
       "    .dataframe thead th {\n",
       "        text-align: right;\n",
       "    }\n",
       "</style>\n",
       "<table border=\"1\" class=\"dataframe\">\n",
       "  <thead>\n",
       "    <tr style=\"text-align: right;\">\n",
       "      <th></th>\n",
       "      <th>PLAYER</th>\n",
       "      <th>NATIONALITY</th>\n",
       "      <th>TYPE</th>\n",
       "      <th>TEAM</th>\n",
       "      <th>PRICE PAID</th>\n",
       "    </tr>\n",
       "  </thead>\n",
       "  <tbody>\n",
       "    <tr>\n",
       "      <th>23</th>\n",
       "      <td>Mitchell Starc</td>\n",
       "      <td>Overseas</td>\n",
       "      <td>Bowler</td>\n",
       "      <td>Kolkata Knight Riders</td>\n",
       "      <td>824175000.0</td>\n",
       "    </tr>\n",
       "  </tbody>\n",
       "</table>\n",
       "</div>"
      ],
      "text/plain": [
       "            PLAYER NATIONALITY    TYPE                   TEAM   PRICE PAID\n",
       "23  Mitchell Starc    Overseas  Bowler  Kolkata Knight Riders  824175000.0"
      ]
     },
     "execution_count": 25,
     "metadata": {},
     "output_type": "execute_result"
    }
   ],
   "source": [
    "# Highest paid player\n",
    "\n",
    "Highest_paid = data['PRICE PAID'].max()\n",
    "H_player = data[data['PRICE PAID'] == Highest_paid]\n",
    "H_player"
   ]
  },
  {
   "cell_type": "code",
   "execution_count": 26,
   "id": "ebd443cd",
   "metadata": {},
   "outputs": [
    {
     "data": {
      "text/html": [
       "<div>\n",
       "<style scoped>\n",
       "    .dataframe tbody tr th:only-of-type {\n",
       "        vertical-align: middle;\n",
       "    }\n",
       "\n",
       "    .dataframe tbody tr th {\n",
       "        vertical-align: top;\n",
       "    }\n",
       "\n",
       "    .dataframe thead th {\n",
       "        text-align: right;\n",
       "    }\n",
       "</style>\n",
       "<table border=\"1\" class=\"dataframe\">\n",
       "  <thead>\n",
       "    <tr style=\"text-align: right;\">\n",
       "      <th></th>\n",
       "      <th>PLAYER</th>\n",
       "      <th>NATIONALITY</th>\n",
       "      <th>TYPE</th>\n",
       "      <th>TEAM</th>\n",
       "      <th>PRICE PAID</th>\n",
       "    </tr>\n",
       "  </thead>\n",
       "  <tbody>\n",
       "    <tr>\n",
       "      <th>5</th>\n",
       "      <td>Avanish Rao Aravelly</td>\n",
       "      <td>Indian</td>\n",
       "      <td>Wicket-Keeper</td>\n",
       "      <td>Chennai Super Kings</td>\n",
       "      <td>6660000.0</td>\n",
       "    </tr>\n",
       "    <tr>\n",
       "      <th>12</th>\n",
       "      <td>Ricky Bhui</td>\n",
       "      <td>Indian</td>\n",
       "      <td>Wicket-Keeper</td>\n",
       "      <td>Delhi Capitals</td>\n",
       "      <td>6660000.0</td>\n",
       "    </tr>\n",
       "    <tr>\n",
       "      <th>13</th>\n",
       "      <td>Swastik Chhikara</td>\n",
       "      <td>Indian</td>\n",
       "      <td>Batter</td>\n",
       "      <td>Delhi Capitals</td>\n",
       "      <td>6660000.0</td>\n",
       "    </tr>\n",
       "    <tr>\n",
       "      <th>14</th>\n",
       "      <td>Rasikh Dar</td>\n",
       "      <td>Indian</td>\n",
       "      <td>Bowler</td>\n",
       "      <td>Delhi Capitals</td>\n",
       "      <td>6660000.0</td>\n",
       "    </tr>\n",
       "    <tr>\n",
       "      <th>22</th>\n",
       "      <td>Manav Suthar</td>\n",
       "      <td>Indian</td>\n",
       "      <td>Bowler</td>\n",
       "      <td>Gujarat Titans</td>\n",
       "      <td>6660000.0</td>\n",
       "    </tr>\n",
       "    <tr>\n",
       "      <th>30</th>\n",
       "      <td>Angkrish Raghuvanshi</td>\n",
       "      <td>Indian</td>\n",
       "      <td>Batter</td>\n",
       "      <td>Kolkata Knight Riders</td>\n",
       "      <td>6660000.0</td>\n",
       "    </tr>\n",
       "    <tr>\n",
       "      <th>31</th>\n",
       "      <td>Ramandeep Singh</td>\n",
       "      <td>Indian</td>\n",
       "      <td>All-Rounder</td>\n",
       "      <td>Kolkata Knight Riders</td>\n",
       "      <td>6660000.0</td>\n",
       "    </tr>\n",
       "    <tr>\n",
       "      <th>32</th>\n",
       "      <td>Sakib Hussain</td>\n",
       "      <td>Indian</td>\n",
       "      <td>Bowler</td>\n",
       "      <td>Kolkata Knight Riders</td>\n",
       "      <td>6660000.0</td>\n",
       "    </tr>\n",
       "    <tr>\n",
       "      <th>37</th>\n",
       "      <td>Arshin Kulkarni</td>\n",
       "      <td>Indian</td>\n",
       "      <td>All-Rounder</td>\n",
       "      <td>Lucknow Super Giants</td>\n",
       "      <td>6660000.0</td>\n",
       "    </tr>\n",
       "    <tr>\n",
       "      <th>38</th>\n",
       "      <td>Mohd. Arshad Khan</td>\n",
       "      <td>Indian</td>\n",
       "      <td>All-Rounder</td>\n",
       "      <td>Lucknow Super Giants</td>\n",
       "      <td>6660000.0</td>\n",
       "    </tr>\n",
       "    <tr>\n",
       "      <th>43</th>\n",
       "      <td>Shreyas Gopal</td>\n",
       "      <td>Indian</td>\n",
       "      <td>Bowler</td>\n",
       "      <td>Mumbai Indians</td>\n",
       "      <td>6660000.0</td>\n",
       "    </tr>\n",
       "    <tr>\n",
       "      <th>44</th>\n",
       "      <td>Shivalik Sharma</td>\n",
       "      <td>Indian</td>\n",
       "      <td>All-Rounder</td>\n",
       "      <td>Mumbai Indians</td>\n",
       "      <td>6660000.0</td>\n",
       "    </tr>\n",
       "    <tr>\n",
       "      <th>45</th>\n",
       "      <td>Anshul Kamboj</td>\n",
       "      <td>Indian</td>\n",
       "      <td>All-Rounder</td>\n",
       "      <td>Mumbai Indians</td>\n",
       "      <td>6660000.0</td>\n",
       "    </tr>\n",
       "    <tr>\n",
       "      <th>46</th>\n",
       "      <td>Naman Dhir</td>\n",
       "      <td>Indian</td>\n",
       "      <td>All-Rounder</td>\n",
       "      <td>Mumbai Indians</td>\n",
       "      <td>6660000.0</td>\n",
       "    </tr>\n",
       "    <tr>\n",
       "      <th>50</th>\n",
       "      <td>Tanay Thyagarajann</td>\n",
       "      <td>Indian</td>\n",
       "      <td>All-Rounder</td>\n",
       "      <td>Punjab Kings</td>\n",
       "      <td>6660000.0</td>\n",
       "    </tr>\n",
       "    <tr>\n",
       "      <th>51</th>\n",
       "      <td>Vishwanath Pratap Singh</td>\n",
       "      <td>Indian</td>\n",
       "      <td>All-Rounder</td>\n",
       "      <td>Punjab Kings</td>\n",
       "      <td>6660000.0</td>\n",
       "    </tr>\n",
       "    <tr>\n",
       "      <th>52</th>\n",
       "      <td>Ashutosh Sharma</td>\n",
       "      <td>Indian</td>\n",
       "      <td>All-Rounder</td>\n",
       "      <td>Punjab Kings</td>\n",
       "      <td>6660000.0</td>\n",
       "    </tr>\n",
       "    <tr>\n",
       "      <th>53</th>\n",
       "      <td>Shashank Singh</td>\n",
       "      <td>Indian</td>\n",
       "      <td>Batter</td>\n",
       "      <td>Punjab Kings</td>\n",
       "      <td>6660000.0</td>\n",
       "    </tr>\n",
       "    <tr>\n",
       "      <th>54</th>\n",
       "      <td>Prince Choudhary</td>\n",
       "      <td>Indian</td>\n",
       "      <td>Bowler</td>\n",
       "      <td>Punjab Kings</td>\n",
       "      <td>6660000.0</td>\n",
       "    </tr>\n",
       "    <tr>\n",
       "      <th>59</th>\n",
       "      <td>Abid Mushtaq</td>\n",
       "      <td>Indian</td>\n",
       "      <td>All-Rounder</td>\n",
       "      <td>Rajasthan Royals</td>\n",
       "      <td>6660000.0</td>\n",
       "    </tr>\n",
       "    <tr>\n",
       "      <th>64</th>\n",
       "      <td>Saurav Chuahan</td>\n",
       "      <td>Indian</td>\n",
       "      <td>Batter</td>\n",
       "      <td>Royal Challengers Bengaluru</td>\n",
       "      <td>6660000.0</td>\n",
       "    </tr>\n",
       "    <tr>\n",
       "      <th>65</th>\n",
       "      <td>Swapnil Singh</td>\n",
       "      <td>Indian</td>\n",
       "      <td>All-Rounder</td>\n",
       "      <td>Royal Challengers Bengaluru</td>\n",
       "      <td>6660000.0</td>\n",
       "    </tr>\n",
       "    <tr>\n",
       "      <th>70</th>\n",
       "      <td>Jhathavedh Subramanyan</td>\n",
       "      <td>Indian</td>\n",
       "      <td>Bowler</td>\n",
       "      <td>Sunrisers Hyderabad</td>\n",
       "      <td>6660000.0</td>\n",
       "    </tr>\n",
       "    <tr>\n",
       "      <th>71</th>\n",
       "      <td>Akash Singh</td>\n",
       "      <td>Indian</td>\n",
       "      <td>Bowler</td>\n",
       "      <td>Sunrisers Hyderabad</td>\n",
       "      <td>6660000.0</td>\n",
       "    </tr>\n",
       "  </tbody>\n",
       "</table>\n",
       "</div>"
      ],
      "text/plain": [
       "                     PLAYER NATIONALITY           TYPE  \\\n",
       "5      Avanish Rao Aravelly      Indian  Wicket-Keeper   \n",
       "12               Ricky Bhui      Indian  Wicket-Keeper   \n",
       "13         Swastik Chhikara      Indian         Batter   \n",
       "14               Rasikh Dar      Indian         Bowler   \n",
       "22             Manav Suthar      Indian         Bowler   \n",
       "30     Angkrish Raghuvanshi      Indian         Batter   \n",
       "31          Ramandeep Singh      Indian    All-Rounder   \n",
       "32            Sakib Hussain      Indian         Bowler   \n",
       "37          Arshin Kulkarni      Indian    All-Rounder   \n",
       "38        Mohd. Arshad Khan      Indian    All-Rounder   \n",
       "43            Shreyas Gopal      Indian         Bowler   \n",
       "44          Shivalik Sharma      Indian    All-Rounder   \n",
       "45            Anshul Kamboj      Indian    All-Rounder   \n",
       "46               Naman Dhir      Indian    All-Rounder   \n",
       "50       Tanay Thyagarajann      Indian    All-Rounder   \n",
       "51  Vishwanath Pratap Singh      Indian    All-Rounder   \n",
       "52          Ashutosh Sharma      Indian    All-Rounder   \n",
       "53           Shashank Singh      Indian         Batter   \n",
       "54         Prince Choudhary      Indian         Bowler   \n",
       "59             Abid Mushtaq      Indian    All-Rounder   \n",
       "64           Saurav Chuahan      Indian         Batter   \n",
       "65            Swapnil Singh      Indian    All-Rounder   \n",
       "70   Jhathavedh Subramanyan      Indian         Bowler   \n",
       "71              Akash Singh      Indian         Bowler   \n",
       "\n",
       "                           TEAM  PRICE PAID  \n",
       "5           Chennai Super Kings   6660000.0  \n",
       "12               Delhi Capitals   6660000.0  \n",
       "13               Delhi Capitals   6660000.0  \n",
       "14               Delhi Capitals   6660000.0  \n",
       "22               Gujarat Titans   6660000.0  \n",
       "30        Kolkata Knight Riders   6660000.0  \n",
       "31        Kolkata Knight Riders   6660000.0  \n",
       "32        Kolkata Knight Riders   6660000.0  \n",
       "37         Lucknow Super Giants   6660000.0  \n",
       "38         Lucknow Super Giants   6660000.0  \n",
       "43               Mumbai Indians   6660000.0  \n",
       "44               Mumbai Indians   6660000.0  \n",
       "45               Mumbai Indians   6660000.0  \n",
       "46               Mumbai Indians   6660000.0  \n",
       "50                 Punjab Kings   6660000.0  \n",
       "51                 Punjab Kings   6660000.0  \n",
       "52                 Punjab Kings   6660000.0  \n",
       "53                 Punjab Kings   6660000.0  \n",
       "54                 Punjab Kings   6660000.0  \n",
       "59             Rajasthan Royals   6660000.0  \n",
       "64  Royal Challengers Bengaluru   6660000.0  \n",
       "65  Royal Challengers Bengaluru   6660000.0  \n",
       "70          Sunrisers Hyderabad   6660000.0  \n",
       "71          Sunrisers Hyderabad   6660000.0  "
      ]
     },
     "execution_count": 26,
     "metadata": {},
     "output_type": "execute_result"
    }
   ],
   "source": [
    "# Lowest paid player\n",
    "\n",
    "lowest_paid = data['PRICE PAID'].min()\n",
    "L_player = data[data['PRICE PAID'] == lowest_paid]\n",
    "L_player"
   ]
  },
  {
   "cell_type": "code",
   "execution_count": 27,
   "id": "ac982d8c",
   "metadata": {},
   "outputs": [
    {
     "data": {
      "text/plain": [
       "24"
      ]
     },
     "execution_count": 27,
     "metadata": {},
     "output_type": "execute_result"
    }
   ],
   "source": [
    "L_player['PLAYER'].count()    # Among all players, 24 received the lowest salary of 6660000.0"
   ]
  },
  {
   "cell_type": "code",
   "execution_count": 188,
   "id": "91f4bb35",
   "metadata": {},
   "outputs": [],
   "source": [
    "\n",
    "# function for full team information\n",
    "\n",
    "def Team_players(team):\n",
    "    \n",
    "    player = data[data['TEAM'] == team]\n",
    "    count = player['PLAYER'].count()\n",
    "    price = player['PRICE PAID'].sum()\n",
    "    \n",
    "    all_count = player[player['TYPE'] == 'All-Rounder'].count()\n",
    "    all_pl = all_count.values[0]\n",
    "    bat_count = player[player['TYPE'] == 'Batter'].count()\n",
    "    bat_pl = bat_count.values[0]\n",
    "    ball_count = player[player['TYPE'] == 'Bowler'].count()\n",
    "    ball_pl = ball_count.values[0]\n",
    "    wicket_count = player[player['TYPE'] == 'Wicket-Keeper'].count()\n",
    "    wicket_pl = wicket_count.values[0]\n",
    "    \n",
    "    h_price = player['PRICE PAID'].max()\n",
    "    h_player = player[player['PRICE PAID'] == h_price]['PLAYER']\n",
    "    h_nation = player['NATIONALITY'].values[0]\n",
    "    \n",
    "    overseas = player[player['NATIONALITY'] == 'Overseas'].count()\n",
    "    overseas_p = overseas.values[0]\n",
    "    indian = player[player['NATIONALITY'] == 'Indian'].count()\n",
    "    indian_p = indian.values[0]\n",
    "    \n",
    "    print(\"The total players in\", team, \"is\", count)\n",
    "    print(\"The total budget of\", team, \"is\", price)\n",
    "    print(\"All-Rounder :\", all_pl)\n",
    "    print(\"Batsman :\", bat_pl)\n",
    "    print(\"Bowler :\", ball_pl)\n",
    "    print(\"Wicket Keeper :\", wicket_pl)\n",
    "    print(\"The Overseas players are :\", overseas_p)\n",
    "    print(\"The Indian players are :\", indian_p)\n",
    "    print(\"The Highest paid player of\",team, \"is\", h_player.values, \"earning\", h_price,\"Rs and he is an\", h_nation, \"player\")\n",
    "    return player\n",
    "    \n",
    "    "
   ]
  },
  {
   "cell_type": "code",
   "execution_count": 189,
   "id": "7efb46f2",
   "metadata": {},
   "outputs": [
    {
     "name": "stdout",
     "output_type": "stream",
     "text": [
      "The total players in Sunrisers Hyderabad is 6\n",
      "The total budget of Sunrisers Hyderabad is 1025640000.0\n",
      "All-Rounder : 2\n",
      "Batsman : 1\n",
      "Bowler : 3\n",
      "Wicket Keeper : 0\n",
      "The Overseas players are : 3\n",
      "The Indian players are : 3\n",
      "The Highest paid player of Sunrisers Hyderabad is ['Pat Cummins'] earning 682650000.0 Rs and he is an Overseas player\n"
     ]
    },
    {
     "data": {
      "text/html": [
       "<div>\n",
       "<style scoped>\n",
       "    .dataframe tbody tr th:only-of-type {\n",
       "        vertical-align: middle;\n",
       "    }\n",
       "\n",
       "    .dataframe tbody tr th {\n",
       "        vertical-align: top;\n",
       "    }\n",
       "\n",
       "    .dataframe thead th {\n",
       "        text-align: right;\n",
       "    }\n",
       "</style>\n",
       "<table border=\"1\" class=\"dataframe\">\n",
       "  <thead>\n",
       "    <tr style=\"text-align: right;\">\n",
       "      <th></th>\n",
       "      <th>PLAYER</th>\n",
       "      <th>NATIONALITY</th>\n",
       "      <th>TYPE</th>\n",
       "      <th>TEAM</th>\n",
       "      <th>PRICE PAID</th>\n",
       "    </tr>\n",
       "  </thead>\n",
       "  <tbody>\n",
       "    <tr>\n",
       "      <th>66</th>\n",
       "      <td>Pat Cummins</td>\n",
       "      <td>Overseas</td>\n",
       "      <td>All-Rounder</td>\n",
       "      <td>Sunrisers Hyderabad</td>\n",
       "      <td>682650000.0</td>\n",
       "    </tr>\n",
       "    <tr>\n",
       "      <th>67</th>\n",
       "      <td>Travis Head</td>\n",
       "      <td>Overseas</td>\n",
       "      <td>Batter</td>\n",
       "      <td>Sunrisers Hyderabad</td>\n",
       "      <td>226440000.0</td>\n",
       "    </tr>\n",
       "    <tr>\n",
       "      <th>68</th>\n",
       "      <td>Jaydev Unadkat</td>\n",
       "      <td>Indian</td>\n",
       "      <td>Bowler</td>\n",
       "      <td>Sunrisers Hyderabad</td>\n",
       "      <td>53280000.0</td>\n",
       "    </tr>\n",
       "    <tr>\n",
       "      <th>69</th>\n",
       "      <td>Wanindu Hasaranga</td>\n",
       "      <td>Overseas</td>\n",
       "      <td>All-Rounder</td>\n",
       "      <td>Sunrisers Hyderabad</td>\n",
       "      <td>49950000.0</td>\n",
       "    </tr>\n",
       "    <tr>\n",
       "      <th>70</th>\n",
       "      <td>Jhathavedh Subramanyan</td>\n",
       "      <td>Indian</td>\n",
       "      <td>Bowler</td>\n",
       "      <td>Sunrisers Hyderabad</td>\n",
       "      <td>6660000.0</td>\n",
       "    </tr>\n",
       "    <tr>\n",
       "      <th>71</th>\n",
       "      <td>Akash Singh</td>\n",
       "      <td>Indian</td>\n",
       "      <td>Bowler</td>\n",
       "      <td>Sunrisers Hyderabad</td>\n",
       "      <td>6660000.0</td>\n",
       "    </tr>\n",
       "  </tbody>\n",
       "</table>\n",
       "</div>"
      ],
      "text/plain": [
       "                    PLAYER NATIONALITY         TYPE                 TEAM  \\\n",
       "66             Pat Cummins    Overseas  All-Rounder  Sunrisers Hyderabad   \n",
       "67             Travis Head    Overseas       Batter  Sunrisers Hyderabad   \n",
       "68          Jaydev Unadkat      Indian       Bowler  Sunrisers Hyderabad   \n",
       "69       Wanindu Hasaranga    Overseas  All-Rounder  Sunrisers Hyderabad   \n",
       "70  Jhathavedh Subramanyan      Indian       Bowler  Sunrisers Hyderabad   \n",
       "71             Akash Singh      Indian       Bowler  Sunrisers Hyderabad   \n",
       "\n",
       "     PRICE PAID  \n",
       "66  682650000.0  \n",
       "67  226440000.0  \n",
       "68   53280000.0  \n",
       "69   49950000.0  \n",
       "70    6660000.0  \n",
       "71    6660000.0  "
      ]
     },
     "execution_count": 189,
     "metadata": {},
     "output_type": "execute_result"
    }
   ],
   "source": [
    "Team_players('Sunrisers Hyderabad')"
   ]
  },
  {
   "cell_type": "code",
   "execution_count": 190,
   "id": "c18c31a5",
   "metadata": {},
   "outputs": [
    {
     "name": "stdout",
     "output_type": "stream",
     "text": [
      "The total players in Royal Challengers Bengaluru is 6\n",
      "The total budget of Royal Challengers Bengaluru is 679320000.0\n",
      "All-Rounder : 2\n",
      "Batsman : 1\n",
      "Bowler : 3\n",
      "Wicket Keeper : 0\n",
      "The Overseas players are : 3\n",
      "The Indian players are : 3\n",
      "The Highest paid player of Royal Challengers Bengaluru is ['Alzarri Joseph'] earning 382950000.0 Rs and he is an Overseas player\n"
     ]
    },
    {
     "data": {
      "text/html": [
       "<div>\n",
       "<style scoped>\n",
       "    .dataframe tbody tr th:only-of-type {\n",
       "        vertical-align: middle;\n",
       "    }\n",
       "\n",
       "    .dataframe tbody tr th {\n",
       "        vertical-align: top;\n",
       "    }\n",
       "\n",
       "    .dataframe thead th {\n",
       "        text-align: right;\n",
       "    }\n",
       "</style>\n",
       "<table border=\"1\" class=\"dataframe\">\n",
       "  <thead>\n",
       "    <tr style=\"text-align: right;\">\n",
       "      <th></th>\n",
       "      <th>PLAYER</th>\n",
       "      <th>NATIONALITY</th>\n",
       "      <th>TYPE</th>\n",
       "      <th>TEAM</th>\n",
       "      <th>PRICE PAID</th>\n",
       "    </tr>\n",
       "  </thead>\n",
       "  <tbody>\n",
       "    <tr>\n",
       "      <th>60</th>\n",
       "      <td>Alzarri Joseph</td>\n",
       "      <td>Overseas</td>\n",
       "      <td>Bowler</td>\n",
       "      <td>Royal Challengers Bengaluru</td>\n",
       "      <td>382950000.0</td>\n",
       "    </tr>\n",
       "    <tr>\n",
       "      <th>61</th>\n",
       "      <td>Yash Dayal</td>\n",
       "      <td>Indian</td>\n",
       "      <td>Bowler</td>\n",
       "      <td>Royal Challengers Bengaluru</td>\n",
       "      <td>166500000.0</td>\n",
       "    </tr>\n",
       "    <tr>\n",
       "      <th>62</th>\n",
       "      <td>Lockie Ferguson</td>\n",
       "      <td>Overseas</td>\n",
       "      <td>Bowler</td>\n",
       "      <td>Royal Challengers Bengaluru</td>\n",
       "      <td>66600000.0</td>\n",
       "    </tr>\n",
       "    <tr>\n",
       "      <th>63</th>\n",
       "      <td>Tom Curran</td>\n",
       "      <td>Overseas</td>\n",
       "      <td>All-Rounder</td>\n",
       "      <td>Royal Challengers Bengaluru</td>\n",
       "      <td>49950000.0</td>\n",
       "    </tr>\n",
       "    <tr>\n",
       "      <th>64</th>\n",
       "      <td>Saurav Chuahan</td>\n",
       "      <td>Indian</td>\n",
       "      <td>Batter</td>\n",
       "      <td>Royal Challengers Bengaluru</td>\n",
       "      <td>6660000.0</td>\n",
       "    </tr>\n",
       "    <tr>\n",
       "      <th>65</th>\n",
       "      <td>Swapnil Singh</td>\n",
       "      <td>Indian</td>\n",
       "      <td>All-Rounder</td>\n",
       "      <td>Royal Challengers Bengaluru</td>\n",
       "      <td>6660000.0</td>\n",
       "    </tr>\n",
       "  </tbody>\n",
       "</table>\n",
       "</div>"
      ],
      "text/plain": [
       "             PLAYER NATIONALITY         TYPE                         TEAM  \\\n",
       "60   Alzarri Joseph    Overseas       Bowler  Royal Challengers Bengaluru   \n",
       "61       Yash Dayal      Indian       Bowler  Royal Challengers Bengaluru   \n",
       "62  Lockie Ferguson    Overseas       Bowler  Royal Challengers Bengaluru   \n",
       "63       Tom Curran    Overseas  All-Rounder  Royal Challengers Bengaluru   \n",
       "64   Saurav Chuahan      Indian       Batter  Royal Challengers Bengaluru   \n",
       "65    Swapnil Singh      Indian  All-Rounder  Royal Challengers Bengaluru   \n",
       "\n",
       "     PRICE PAID  \n",
       "60  382950000.0  \n",
       "61  166500000.0  \n",
       "62   66600000.0  \n",
       "63   49950000.0  \n",
       "64    6660000.0  \n",
       "65    6660000.0  "
      ]
     },
     "execution_count": 190,
     "metadata": {},
     "output_type": "execute_result"
    }
   ],
   "source": [
    "Team_players('Royal Challengers Bengaluru')"
   ]
  },
  {
   "cell_type": "code",
   "execution_count": 191,
   "id": "65956c9f",
   "metadata": {},
   "outputs": [
    {
     "name": "stdout",
     "output_type": "stream",
     "text": [
      "The total players in Punjab Kings is 8\n",
      "The total budget of Punjab Kings is 830835000.0\n",
      "All-Rounder : 5\n",
      "Batsman : 2\n",
      "Bowler : 1\n",
      "Wicket Keeper : 0\n",
      "The Overseas players are : 2\n",
      "The Indian players are : 6\n",
      "The Highest paid player of Punjab Kings is ['Harshal Patel'] earning 391275000.0 Rs and he is an Indian player\n"
     ]
    },
    {
     "data": {
      "text/html": [
       "<div>\n",
       "<style scoped>\n",
       "    .dataframe tbody tr th:only-of-type {\n",
       "        vertical-align: middle;\n",
       "    }\n",
       "\n",
       "    .dataframe tbody tr th {\n",
       "        vertical-align: top;\n",
       "    }\n",
       "\n",
       "    .dataframe thead th {\n",
       "        text-align: right;\n",
       "    }\n",
       "</style>\n",
       "<table border=\"1\" class=\"dataframe\">\n",
       "  <thead>\n",
       "    <tr style=\"text-align: right;\">\n",
       "      <th></th>\n",
       "      <th>PLAYER</th>\n",
       "      <th>NATIONALITY</th>\n",
       "      <th>TYPE</th>\n",
       "      <th>TEAM</th>\n",
       "      <th>PRICE PAID</th>\n",
       "    </tr>\n",
       "  </thead>\n",
       "  <tbody>\n",
       "    <tr>\n",
       "      <th>47</th>\n",
       "      <td>Harshal Patel</td>\n",
       "      <td>Indian</td>\n",
       "      <td>All-Rounder</td>\n",
       "      <td>Punjab Kings</td>\n",
       "      <td>391275000.0</td>\n",
       "    </tr>\n",
       "    <tr>\n",
       "      <th>48</th>\n",
       "      <td>Rilee Rossouw</td>\n",
       "      <td>Overseas</td>\n",
       "      <td>Batter</td>\n",
       "      <td>Punjab Kings</td>\n",
       "      <td>266400000.0</td>\n",
       "    </tr>\n",
       "    <tr>\n",
       "      <th>49</th>\n",
       "      <td>Chris Woakes</td>\n",
       "      <td>Overseas</td>\n",
       "      <td>All-Rounder</td>\n",
       "      <td>Punjab Kings</td>\n",
       "      <td>139860000.0</td>\n",
       "    </tr>\n",
       "    <tr>\n",
       "      <th>50</th>\n",
       "      <td>Tanay Thyagarajann</td>\n",
       "      <td>Indian</td>\n",
       "      <td>All-Rounder</td>\n",
       "      <td>Punjab Kings</td>\n",
       "      <td>6660000.0</td>\n",
       "    </tr>\n",
       "    <tr>\n",
       "      <th>51</th>\n",
       "      <td>Vishwanath Pratap Singh</td>\n",
       "      <td>Indian</td>\n",
       "      <td>All-Rounder</td>\n",
       "      <td>Punjab Kings</td>\n",
       "      <td>6660000.0</td>\n",
       "    </tr>\n",
       "    <tr>\n",
       "      <th>52</th>\n",
       "      <td>Ashutosh Sharma</td>\n",
       "      <td>Indian</td>\n",
       "      <td>All-Rounder</td>\n",
       "      <td>Punjab Kings</td>\n",
       "      <td>6660000.0</td>\n",
       "    </tr>\n",
       "    <tr>\n",
       "      <th>53</th>\n",
       "      <td>Shashank Singh</td>\n",
       "      <td>Indian</td>\n",
       "      <td>Batter</td>\n",
       "      <td>Punjab Kings</td>\n",
       "      <td>6660000.0</td>\n",
       "    </tr>\n",
       "    <tr>\n",
       "      <th>54</th>\n",
       "      <td>Prince Choudhary</td>\n",
       "      <td>Indian</td>\n",
       "      <td>Bowler</td>\n",
       "      <td>Punjab Kings</td>\n",
       "      <td>6660000.0</td>\n",
       "    </tr>\n",
       "  </tbody>\n",
       "</table>\n",
       "</div>"
      ],
      "text/plain": [
       "                     PLAYER NATIONALITY         TYPE          TEAM  \\\n",
       "47            Harshal Patel      Indian  All-Rounder  Punjab Kings   \n",
       "48            Rilee Rossouw    Overseas       Batter  Punjab Kings   \n",
       "49             Chris Woakes    Overseas  All-Rounder  Punjab Kings   \n",
       "50       Tanay Thyagarajann      Indian  All-Rounder  Punjab Kings   \n",
       "51  Vishwanath Pratap Singh      Indian  All-Rounder  Punjab Kings   \n",
       "52          Ashutosh Sharma      Indian  All-Rounder  Punjab Kings   \n",
       "53           Shashank Singh      Indian       Batter  Punjab Kings   \n",
       "54         Prince Choudhary      Indian       Bowler  Punjab Kings   \n",
       "\n",
       "     PRICE PAID  \n",
       "47  391275000.0  \n",
       "48  266400000.0  \n",
       "49  139860000.0  \n",
       "50    6660000.0  \n",
       "51    6660000.0  \n",
       "52    6660000.0  \n",
       "53    6660000.0  \n",
       "54    6660000.0  "
      ]
     },
     "execution_count": 191,
     "metadata": {},
     "output_type": "execute_result"
    }
   ],
   "source": [
    "Team_players('Punjab Kings')"
   ]
  },
  {
   "cell_type": "code",
   "execution_count": 192,
   "id": "63d5bb77",
   "metadata": {},
   "outputs": [
    {
     "name": "stdout",
     "output_type": "stream",
     "text": [
      "The total players in Mumbai Indians is 8\n",
      "The total budget of Mumbai Indians is 556110000.0\n",
      "All-Rounder : 5\n",
      "Batsman : 0\n",
      "Bowler : 3\n",
      "Wicket Keeper : 0\n",
      "The Overseas players are : 4\n",
      "The Indian players are : 4\n",
      "The Highest paid player of Mumbai Indians is ['Gerald Coetzee'] earning 166500000.0 Rs and he is an Overseas player\n"
     ]
    },
    {
     "data": {
      "text/html": [
       "<div>\n",
       "<style scoped>\n",
       "    .dataframe tbody tr th:only-of-type {\n",
       "        vertical-align: middle;\n",
       "    }\n",
       "\n",
       "    .dataframe tbody tr th {\n",
       "        vertical-align: top;\n",
       "    }\n",
       "\n",
       "    .dataframe thead th {\n",
       "        text-align: right;\n",
       "    }\n",
       "</style>\n",
       "<table border=\"1\" class=\"dataframe\">\n",
       "  <thead>\n",
       "    <tr style=\"text-align: right;\">\n",
       "      <th></th>\n",
       "      <th>PLAYER</th>\n",
       "      <th>NATIONALITY</th>\n",
       "      <th>TYPE</th>\n",
       "      <th>TEAM</th>\n",
       "      <th>PRICE PAID</th>\n",
       "    </tr>\n",
       "  </thead>\n",
       "  <tbody>\n",
       "    <tr>\n",
       "      <th>39</th>\n",
       "      <td>Gerald Coetzee</td>\n",
       "      <td>Overseas</td>\n",
       "      <td>All-Rounder</td>\n",
       "      <td>Mumbai Indians</td>\n",
       "      <td>166500000.0</td>\n",
       "    </tr>\n",
       "    <tr>\n",
       "      <th>40</th>\n",
       "      <td>Nuwan Thushara</td>\n",
       "      <td>Overseas</td>\n",
       "      <td>Bowler</td>\n",
       "      <td>Mumbai Indians</td>\n",
       "      <td>159840000.0</td>\n",
       "    </tr>\n",
       "    <tr>\n",
       "      <th>41</th>\n",
       "      <td>Dilshan Madushanka</td>\n",
       "      <td>Overseas</td>\n",
       "      <td>Bowler</td>\n",
       "      <td>Mumbai Indians</td>\n",
       "      <td>153180000.0</td>\n",
       "    </tr>\n",
       "    <tr>\n",
       "      <th>42</th>\n",
       "      <td>Mohammad Nabi</td>\n",
       "      <td>Overseas</td>\n",
       "      <td>All-Rounder</td>\n",
       "      <td>Mumbai Indians</td>\n",
       "      <td>49950000.0</td>\n",
       "    </tr>\n",
       "    <tr>\n",
       "      <th>43</th>\n",
       "      <td>Shreyas Gopal</td>\n",
       "      <td>Indian</td>\n",
       "      <td>Bowler</td>\n",
       "      <td>Mumbai Indians</td>\n",
       "      <td>6660000.0</td>\n",
       "    </tr>\n",
       "    <tr>\n",
       "      <th>44</th>\n",
       "      <td>Shivalik Sharma</td>\n",
       "      <td>Indian</td>\n",
       "      <td>All-Rounder</td>\n",
       "      <td>Mumbai Indians</td>\n",
       "      <td>6660000.0</td>\n",
       "    </tr>\n",
       "    <tr>\n",
       "      <th>45</th>\n",
       "      <td>Anshul Kamboj</td>\n",
       "      <td>Indian</td>\n",
       "      <td>All-Rounder</td>\n",
       "      <td>Mumbai Indians</td>\n",
       "      <td>6660000.0</td>\n",
       "    </tr>\n",
       "    <tr>\n",
       "      <th>46</th>\n",
       "      <td>Naman Dhir</td>\n",
       "      <td>Indian</td>\n",
       "      <td>All-Rounder</td>\n",
       "      <td>Mumbai Indians</td>\n",
       "      <td>6660000.0</td>\n",
       "    </tr>\n",
       "  </tbody>\n",
       "</table>\n",
       "</div>"
      ],
      "text/plain": [
       "                PLAYER NATIONALITY         TYPE            TEAM   PRICE PAID\n",
       "39      Gerald Coetzee    Overseas  All-Rounder  Mumbai Indians  166500000.0\n",
       "40      Nuwan Thushara    Overseas       Bowler  Mumbai Indians  159840000.0\n",
       "41  Dilshan Madushanka    Overseas       Bowler  Mumbai Indians  153180000.0\n",
       "42       Mohammad Nabi    Overseas  All-Rounder  Mumbai Indians   49950000.0\n",
       "43       Shreyas Gopal      Indian       Bowler  Mumbai Indians    6660000.0\n",
       "44     Shivalik Sharma      Indian  All-Rounder  Mumbai Indians    6660000.0\n",
       "45       Anshul Kamboj      Indian  All-Rounder  Mumbai Indians    6660000.0\n",
       "46          Naman Dhir      Indian  All-Rounder  Mumbai Indians    6660000.0"
      ]
     },
     "execution_count": 192,
     "metadata": {},
     "output_type": "execute_result"
    }
   ],
   "source": [
    "Team_players('Mumbai Indians')"
   ]
  },
  {
   "cell_type": "code",
   "execution_count": 193,
   "id": "5771ffd0",
   "metadata": {},
   "outputs": [
    {
     "name": "stdout",
     "output_type": "stream",
     "text": [
      "The total players in Kolkata Knight Riders is 10\n",
      "The total budget of Kolkata Knight Riders is 1043955000.0\n",
      "All-Rounder : 1\n",
      "Batsman : 3\n",
      "Bowler : 5\n",
      "Wicket Keeper : 1\n",
      "The Overseas players are : 4\n",
      "The Indian players are : 6\n",
      "The Highest paid player of Kolkata Knight Riders is ['Mitchell Starc'] earning 824175000.0 Rs and he is an Overseas player\n"
     ]
    },
    {
     "data": {
      "text/html": [
       "<div>\n",
       "<style scoped>\n",
       "    .dataframe tbody tr th:only-of-type {\n",
       "        vertical-align: middle;\n",
       "    }\n",
       "\n",
       "    .dataframe tbody tr th {\n",
       "        vertical-align: top;\n",
       "    }\n",
       "\n",
       "    .dataframe thead th {\n",
       "        text-align: right;\n",
       "    }\n",
       "</style>\n",
       "<table border=\"1\" class=\"dataframe\">\n",
       "  <thead>\n",
       "    <tr style=\"text-align: right;\">\n",
       "      <th></th>\n",
       "      <th>PLAYER</th>\n",
       "      <th>NATIONALITY</th>\n",
       "      <th>TYPE</th>\n",
       "      <th>TEAM</th>\n",
       "      <th>PRICE PAID</th>\n",
       "    </tr>\n",
       "  </thead>\n",
       "  <tbody>\n",
       "    <tr>\n",
       "      <th>23</th>\n",
       "      <td>Mitchell Starc</td>\n",
       "      <td>Overseas</td>\n",
       "      <td>Bowler</td>\n",
       "      <td>Kolkata Knight Riders</td>\n",
       "      <td>824175000.0</td>\n",
       "    </tr>\n",
       "    <tr>\n",
       "      <th>24</th>\n",
       "      <td>Mujeeb Rahman</td>\n",
       "      <td>Overseas</td>\n",
       "      <td>Bowler</td>\n",
       "      <td>Kolkata Knight Riders</td>\n",
       "      <td>66600000.0</td>\n",
       "    </tr>\n",
       "    <tr>\n",
       "      <th>25</th>\n",
       "      <td>Sherfane Rutherford</td>\n",
       "      <td>Overseas</td>\n",
       "      <td>Batter</td>\n",
       "      <td>Kolkata Knight Riders</td>\n",
       "      <td>49950000.0</td>\n",
       "    </tr>\n",
       "    <tr>\n",
       "      <th>26</th>\n",
       "      <td>Gus Atkinson</td>\n",
       "      <td>Overseas</td>\n",
       "      <td>Bowler</td>\n",
       "      <td>Kolkata Knight Riders</td>\n",
       "      <td>33300000.0</td>\n",
       "    </tr>\n",
       "    <tr>\n",
       "      <th>27</th>\n",
       "      <td>Manish Pandey</td>\n",
       "      <td>Indian</td>\n",
       "      <td>Batter</td>\n",
       "      <td>Kolkata Knight Riders</td>\n",
       "      <td>16650000.0</td>\n",
       "    </tr>\n",
       "    <tr>\n",
       "      <th>28</th>\n",
       "      <td>K.S. Bharat</td>\n",
       "      <td>Indian</td>\n",
       "      <td>Wicket-Keeper</td>\n",
       "      <td>Kolkata Knight Riders</td>\n",
       "      <td>16650000.0</td>\n",
       "    </tr>\n",
       "    <tr>\n",
       "      <th>29</th>\n",
       "      <td>Chetan Sakariya</td>\n",
       "      <td>Indian</td>\n",
       "      <td>Bowler</td>\n",
       "      <td>Kolkata Knight Riders</td>\n",
       "      <td>16650000.0</td>\n",
       "    </tr>\n",
       "    <tr>\n",
       "      <th>30</th>\n",
       "      <td>Angkrish Raghuvanshi</td>\n",
       "      <td>Indian</td>\n",
       "      <td>Batter</td>\n",
       "      <td>Kolkata Knight Riders</td>\n",
       "      <td>6660000.0</td>\n",
       "    </tr>\n",
       "    <tr>\n",
       "      <th>31</th>\n",
       "      <td>Ramandeep Singh</td>\n",
       "      <td>Indian</td>\n",
       "      <td>All-Rounder</td>\n",
       "      <td>Kolkata Knight Riders</td>\n",
       "      <td>6660000.0</td>\n",
       "    </tr>\n",
       "    <tr>\n",
       "      <th>32</th>\n",
       "      <td>Sakib Hussain</td>\n",
       "      <td>Indian</td>\n",
       "      <td>Bowler</td>\n",
       "      <td>Kolkata Knight Riders</td>\n",
       "      <td>6660000.0</td>\n",
       "    </tr>\n",
       "  </tbody>\n",
       "</table>\n",
       "</div>"
      ],
      "text/plain": [
       "                  PLAYER NATIONALITY           TYPE                   TEAM  \\\n",
       "23        Mitchell Starc    Overseas         Bowler  Kolkata Knight Riders   \n",
       "24         Mujeeb Rahman    Overseas         Bowler  Kolkata Knight Riders   \n",
       "25   Sherfane Rutherford    Overseas         Batter  Kolkata Knight Riders   \n",
       "26          Gus Atkinson    Overseas         Bowler  Kolkata Knight Riders   \n",
       "27         Manish Pandey      Indian         Batter  Kolkata Knight Riders   \n",
       "28           K.S. Bharat      Indian  Wicket-Keeper  Kolkata Knight Riders   \n",
       "29       Chetan Sakariya      Indian         Bowler  Kolkata Knight Riders   \n",
       "30  Angkrish Raghuvanshi      Indian         Batter  Kolkata Knight Riders   \n",
       "31       Ramandeep Singh      Indian    All-Rounder  Kolkata Knight Riders   \n",
       "32         Sakib Hussain      Indian         Bowler  Kolkata Knight Riders   \n",
       "\n",
       "     PRICE PAID  \n",
       "23  824175000.0  \n",
       "24   66600000.0  \n",
       "25   49950000.0  \n",
       "26   33300000.0  \n",
       "27   16650000.0  \n",
       "28   16650000.0  \n",
       "29   16650000.0  \n",
       "30    6660000.0  \n",
       "31    6660000.0  \n",
       "32    6660000.0  "
      ]
     },
     "execution_count": 193,
     "metadata": {},
     "output_type": "execute_result"
    }
   ],
   "source": [
    "Team_players('Kolkata Knight Riders')"
   ]
  },
  {
   "cell_type": "code",
   "execution_count": 194,
   "id": "eeeb3edf",
   "metadata": {},
   "outputs": [
    {
     "name": "stdout",
     "output_type": "stream",
     "text": [
      "The total players in Delhi Capitals is 9\n",
      "The total budget of Delhi Capitals is 634365000.0\n",
      "All-Rounder : 1\n",
      "Batsman : 2\n",
      "Bowler : 2\n",
      "Wicket Keeper : 4\n",
      "The Overseas players are : 4\n",
      "The Indian players are : 5\n",
      "The Highest paid player of Delhi Capitals is ['Kumar Kushagra'] earning 239760000.0 Rs and he is an Indian player\n"
     ]
    },
    {
     "data": {
      "text/html": [
       "<div>\n",
       "<style scoped>\n",
       "    .dataframe tbody tr th:only-of-type {\n",
       "        vertical-align: middle;\n",
       "    }\n",
       "\n",
       "    .dataframe tbody tr th {\n",
       "        vertical-align: top;\n",
       "    }\n",
       "\n",
       "    .dataframe thead th {\n",
       "        text-align: right;\n",
       "    }\n",
       "</style>\n",
       "<table border=\"1\" class=\"dataframe\">\n",
       "  <thead>\n",
       "    <tr style=\"text-align: right;\">\n",
       "      <th></th>\n",
       "      <th>PLAYER</th>\n",
       "      <th>NATIONALITY</th>\n",
       "      <th>TYPE</th>\n",
       "      <th>TEAM</th>\n",
       "      <th>PRICE PAID</th>\n",
       "    </tr>\n",
       "  </thead>\n",
       "  <tbody>\n",
       "    <tr>\n",
       "      <th>6</th>\n",
       "      <td>Kumar Kushagra</td>\n",
       "      <td>Indian</td>\n",
       "      <td>Wicket-Keeper</td>\n",
       "      <td>Delhi Capitals</td>\n",
       "      <td>239760000.0</td>\n",
       "    </tr>\n",
       "    <tr>\n",
       "      <th>7</th>\n",
       "      <td>Jhye Richardson</td>\n",
       "      <td>Overseas</td>\n",
       "      <td>Bowler</td>\n",
       "      <td>Delhi Capitals</td>\n",
       "      <td>166500000.0</td>\n",
       "    </tr>\n",
       "    <tr>\n",
       "      <th>8</th>\n",
       "      <td>Harry Brook</td>\n",
       "      <td>Overseas</td>\n",
       "      <td>Batter</td>\n",
       "      <td>Delhi Capitals</td>\n",
       "      <td>133200000.0</td>\n",
       "    </tr>\n",
       "    <tr>\n",
       "      <th>9</th>\n",
       "      <td>Sumit Kumar</td>\n",
       "      <td>Indian</td>\n",
       "      <td>All-Rounder</td>\n",
       "      <td>Delhi Capitals</td>\n",
       "      <td>33300000.0</td>\n",
       "    </tr>\n",
       "    <tr>\n",
       "      <th>10</th>\n",
       "      <td>Shai Hope</td>\n",
       "      <td>Overseas</td>\n",
       "      <td>Wicket-Keeper</td>\n",
       "      <td>Delhi Capitals</td>\n",
       "      <td>24975000.0</td>\n",
       "    </tr>\n",
       "    <tr>\n",
       "      <th>11</th>\n",
       "      <td>Tristan Stubbs</td>\n",
       "      <td>Overseas</td>\n",
       "      <td>Wicket-Keeper</td>\n",
       "      <td>Delhi Capitals</td>\n",
       "      <td>16650000.0</td>\n",
       "    </tr>\n",
       "    <tr>\n",
       "      <th>12</th>\n",
       "      <td>Ricky Bhui</td>\n",
       "      <td>Indian</td>\n",
       "      <td>Wicket-Keeper</td>\n",
       "      <td>Delhi Capitals</td>\n",
       "      <td>6660000.0</td>\n",
       "    </tr>\n",
       "    <tr>\n",
       "      <th>13</th>\n",
       "      <td>Swastik Chhikara</td>\n",
       "      <td>Indian</td>\n",
       "      <td>Batter</td>\n",
       "      <td>Delhi Capitals</td>\n",
       "      <td>6660000.0</td>\n",
       "    </tr>\n",
       "    <tr>\n",
       "      <th>14</th>\n",
       "      <td>Rasikh Dar</td>\n",
       "      <td>Indian</td>\n",
       "      <td>Bowler</td>\n",
       "      <td>Delhi Capitals</td>\n",
       "      <td>6660000.0</td>\n",
       "    </tr>\n",
       "  </tbody>\n",
       "</table>\n",
       "</div>"
      ],
      "text/plain": [
       "              PLAYER NATIONALITY           TYPE            TEAM   PRICE PAID\n",
       "6     Kumar Kushagra      Indian  Wicket-Keeper  Delhi Capitals  239760000.0\n",
       "7    Jhye Richardson    Overseas         Bowler  Delhi Capitals  166500000.0\n",
       "8        Harry Brook    Overseas         Batter  Delhi Capitals  133200000.0\n",
       "9        Sumit Kumar      Indian    All-Rounder  Delhi Capitals   33300000.0\n",
       "10         Shai Hope    Overseas  Wicket-Keeper  Delhi Capitals   24975000.0\n",
       "11    Tristan Stubbs    Overseas  Wicket-Keeper  Delhi Capitals   16650000.0\n",
       "12        Ricky Bhui      Indian  Wicket-Keeper  Delhi Capitals    6660000.0\n",
       "13  Swastik Chhikara      Indian         Batter  Delhi Capitals    6660000.0\n",
       "14        Rasikh Dar      Indian         Bowler  Delhi Capitals    6660000.0"
      ]
     },
     "execution_count": 194,
     "metadata": {},
     "output_type": "execute_result"
    }
   ],
   "source": [
    "Team_players('Delhi Capitals')"
   ]
  },
  {
   "cell_type": "code",
   "execution_count": 195,
   "id": "0e2832f5",
   "metadata": {},
   "outputs": [
    {
     "name": "stdout",
     "output_type": "stream",
     "text": [
      "The total players in Lucknow Super Giants is 6\n",
      "The total budget of Lucknow Super Giants is 406260000.0\n",
      "All-Rounder : 3\n",
      "Batsman : 1\n",
      "Bowler : 2\n",
      "Wicket Keeper : 0\n",
      "The Overseas players are : 2\n",
      "The Indian players are : 4\n",
      "The Highest paid player of Lucknow Super Giants is ['Shivam Mavi'] earning 213120000.0 Rs and he is an Indian player\n"
     ]
    },
    {
     "data": {
      "text/html": [
       "<div>\n",
       "<style scoped>\n",
       "    .dataframe tbody tr th:only-of-type {\n",
       "        vertical-align: middle;\n",
       "    }\n",
       "\n",
       "    .dataframe tbody tr th {\n",
       "        vertical-align: top;\n",
       "    }\n",
       "\n",
       "    .dataframe thead th {\n",
       "        text-align: right;\n",
       "    }\n",
       "</style>\n",
       "<table border=\"1\" class=\"dataframe\">\n",
       "  <thead>\n",
       "    <tr style=\"text-align: right;\">\n",
       "      <th></th>\n",
       "      <th>PLAYER</th>\n",
       "      <th>NATIONALITY</th>\n",
       "      <th>TYPE</th>\n",
       "      <th>TEAM</th>\n",
       "      <th>PRICE PAID</th>\n",
       "    </tr>\n",
       "  </thead>\n",
       "  <tbody>\n",
       "    <tr>\n",
       "      <th>33</th>\n",
       "      <td>Shivam Mavi</td>\n",
       "      <td>Indian</td>\n",
       "      <td>Bowler</td>\n",
       "      <td>Lucknow Super Giants</td>\n",
       "      <td>213120000.0</td>\n",
       "    </tr>\n",
       "    <tr>\n",
       "      <th>34</th>\n",
       "      <td>M. Siddharth</td>\n",
       "      <td>Indian</td>\n",
       "      <td>Bowler</td>\n",
       "      <td>Lucknow Super Giants</td>\n",
       "      <td>79920000.0</td>\n",
       "    </tr>\n",
       "    <tr>\n",
       "      <th>35</th>\n",
       "      <td>David Willey</td>\n",
       "      <td>Overseas</td>\n",
       "      <td>All-Rounder</td>\n",
       "      <td>Lucknow Super Giants</td>\n",
       "      <td>66600000.0</td>\n",
       "    </tr>\n",
       "    <tr>\n",
       "      <th>36</th>\n",
       "      <td>Ashton Turner</td>\n",
       "      <td>Overseas</td>\n",
       "      <td>Batter</td>\n",
       "      <td>Lucknow Super Giants</td>\n",
       "      <td>33300000.0</td>\n",
       "    </tr>\n",
       "    <tr>\n",
       "      <th>37</th>\n",
       "      <td>Arshin Kulkarni</td>\n",
       "      <td>Indian</td>\n",
       "      <td>All-Rounder</td>\n",
       "      <td>Lucknow Super Giants</td>\n",
       "      <td>6660000.0</td>\n",
       "    </tr>\n",
       "    <tr>\n",
       "      <th>38</th>\n",
       "      <td>Mohd. Arshad Khan</td>\n",
       "      <td>Indian</td>\n",
       "      <td>All-Rounder</td>\n",
       "      <td>Lucknow Super Giants</td>\n",
       "      <td>6660000.0</td>\n",
       "    </tr>\n",
       "  </tbody>\n",
       "</table>\n",
       "</div>"
      ],
      "text/plain": [
       "               PLAYER NATIONALITY         TYPE                  TEAM  \\\n",
       "33        Shivam Mavi      Indian       Bowler  Lucknow Super Giants   \n",
       "34       M. Siddharth      Indian       Bowler  Lucknow Super Giants   \n",
       "35       David Willey    Overseas  All-Rounder  Lucknow Super Giants   \n",
       "36      Ashton Turner    Overseas       Batter  Lucknow Super Giants   \n",
       "37    Arshin Kulkarni      Indian  All-Rounder  Lucknow Super Giants   \n",
       "38  Mohd. Arshad Khan      Indian  All-Rounder  Lucknow Super Giants   \n",
       "\n",
       "     PRICE PAID  \n",
       "33  213120000.0  \n",
       "34   79920000.0  \n",
       "35   66600000.0  \n",
       "36   33300000.0  \n",
       "37    6660000.0  \n",
       "38    6660000.0  "
      ]
     },
     "execution_count": 195,
     "metadata": {},
     "output_type": "execute_result"
    }
   ],
   "source": [
    "Team_players('Lucknow Super Giants')"
   ]
  },
  {
   "cell_type": "code",
   "execution_count": 196,
   "id": "6774d2d2",
   "metadata": {},
   "outputs": [
    {
     "name": "stdout",
     "output_type": "stream",
     "text": [
      "The total players in Chennai Super Kings is 6\n",
      "The total budget of Chennai Super Kings is 1012320000.0\n",
      "All-Rounder : 3\n",
      "Batsman : 1\n",
      "Bowler : 1\n",
      "Wicket Keeper : 1\n",
      "The Overseas players are : 3\n",
      "The Indian players are : 3\n",
      "The Highest paid player of Chennai Super Kings is ['Daryl Mitchell'] earning 466200000.0 Rs and he is an Overseas player\n"
     ]
    },
    {
     "data": {
      "text/html": [
       "<div>\n",
       "<style scoped>\n",
       "    .dataframe tbody tr th:only-of-type {\n",
       "        vertical-align: middle;\n",
       "    }\n",
       "\n",
       "    .dataframe tbody tr th {\n",
       "        vertical-align: top;\n",
       "    }\n",
       "\n",
       "    .dataframe thead th {\n",
       "        text-align: right;\n",
       "    }\n",
       "</style>\n",
       "<table border=\"1\" class=\"dataframe\">\n",
       "  <thead>\n",
       "    <tr style=\"text-align: right;\">\n",
       "      <th></th>\n",
       "      <th>PLAYER</th>\n",
       "      <th>NATIONALITY</th>\n",
       "      <th>TYPE</th>\n",
       "      <th>TEAM</th>\n",
       "      <th>PRICE PAID</th>\n",
       "    </tr>\n",
       "  </thead>\n",
       "  <tbody>\n",
       "    <tr>\n",
       "      <th>0</th>\n",
       "      <td>Daryl Mitchell</td>\n",
       "      <td>Overseas</td>\n",
       "      <td>All-Rounder</td>\n",
       "      <td>Chennai Super Kings</td>\n",
       "      <td>466200000.0</td>\n",
       "    </tr>\n",
       "    <tr>\n",
       "      <th>1</th>\n",
       "      <td>Sameer Rizvi</td>\n",
       "      <td>Indian</td>\n",
       "      <td>Batter</td>\n",
       "      <td>Chennai Super Kings</td>\n",
       "      <td>279720000.0</td>\n",
       "    </tr>\n",
       "    <tr>\n",
       "      <th>2</th>\n",
       "      <td>Shardul Thakur</td>\n",
       "      <td>Indian</td>\n",
       "      <td>All-Rounder</td>\n",
       "      <td>Chennai Super Kings</td>\n",
       "      <td>133200000.0</td>\n",
       "    </tr>\n",
       "    <tr>\n",
       "      <th>3</th>\n",
       "      <td>Mustafizur Rahman</td>\n",
       "      <td>Overseas</td>\n",
       "      <td>Bowler</td>\n",
       "      <td>Chennai Super Kings</td>\n",
       "      <td>66600000.0</td>\n",
       "    </tr>\n",
       "    <tr>\n",
       "      <th>4</th>\n",
       "      <td>Rachin Ravindra</td>\n",
       "      <td>Overseas</td>\n",
       "      <td>All-Rounder</td>\n",
       "      <td>Chennai Super Kings</td>\n",
       "      <td>59940000.0</td>\n",
       "    </tr>\n",
       "    <tr>\n",
       "      <th>5</th>\n",
       "      <td>Avanish Rao Aravelly</td>\n",
       "      <td>Indian</td>\n",
       "      <td>Wicket-Keeper</td>\n",
       "      <td>Chennai Super Kings</td>\n",
       "      <td>6660000.0</td>\n",
       "    </tr>\n",
       "  </tbody>\n",
       "</table>\n",
       "</div>"
      ],
      "text/plain": [
       "                 PLAYER NATIONALITY           TYPE                 TEAM  \\\n",
       "0        Daryl Mitchell    Overseas    All-Rounder  Chennai Super Kings   \n",
       "1          Sameer Rizvi      Indian         Batter  Chennai Super Kings   \n",
       "2        Shardul Thakur      Indian    All-Rounder  Chennai Super Kings   \n",
       "3     Mustafizur Rahman    Overseas         Bowler  Chennai Super Kings   \n",
       "4       Rachin Ravindra    Overseas    All-Rounder  Chennai Super Kings   \n",
       "5  Avanish Rao Aravelly      Indian  Wicket-Keeper  Chennai Super Kings   \n",
       "\n",
       "    PRICE PAID  \n",
       "0  466200000.0  \n",
       "1  279720000.0  \n",
       "2  133200000.0  \n",
       "3   66600000.0  \n",
       "4   59940000.0  \n",
       "5    6660000.0  "
      ]
     },
     "execution_count": 196,
     "metadata": {},
     "output_type": "execute_result"
    }
   ],
   "source": [
    "Team_players('Chennai Super Kings')"
   ]
  },
  {
   "cell_type": "code",
   "execution_count": 197,
   "id": "b1c4b972",
   "metadata": {},
   "outputs": [
    {
     "name": "stdout",
     "output_type": "stream",
     "text": [
      "The total players in Rajasthan Royals is 5\n",
      "The total budget of Rajasthan Royals is 476190000.0\n",
      "All-Rounder : 1\n",
      "Batsman : 2\n",
      "Bowler : 1\n",
      "Wicket Keeper : 1\n",
      "The Overseas players are : 3\n",
      "The Indian players are : 2\n",
      "The Highest paid player of Rajasthan Royals is ['Rovman Powell'] earning 246420000.0 Rs and he is an Overseas player\n"
     ]
    },
    {
     "data": {
      "text/html": [
       "<div>\n",
       "<style scoped>\n",
       "    .dataframe tbody tr th:only-of-type {\n",
       "        vertical-align: middle;\n",
       "    }\n",
       "\n",
       "    .dataframe tbody tr th {\n",
       "        vertical-align: top;\n",
       "    }\n",
       "\n",
       "    .dataframe thead th {\n",
       "        text-align: right;\n",
       "    }\n",
       "</style>\n",
       "<table border=\"1\" class=\"dataframe\">\n",
       "  <thead>\n",
       "    <tr style=\"text-align: right;\">\n",
       "      <th></th>\n",
       "      <th>PLAYER</th>\n",
       "      <th>NATIONALITY</th>\n",
       "      <th>TYPE</th>\n",
       "      <th>TEAM</th>\n",
       "      <th>PRICE PAID</th>\n",
       "    </tr>\n",
       "  </thead>\n",
       "  <tbody>\n",
       "    <tr>\n",
       "      <th>55</th>\n",
       "      <td>Rovman Powell</td>\n",
       "      <td>Overseas</td>\n",
       "      <td>Batter</td>\n",
       "      <td>Rajasthan Royals</td>\n",
       "      <td>246420000.0</td>\n",
       "    </tr>\n",
       "    <tr>\n",
       "      <th>56</th>\n",
       "      <td>Shubham Dubey</td>\n",
       "      <td>Indian</td>\n",
       "      <td>Batter</td>\n",
       "      <td>Rajasthan Royals</td>\n",
       "      <td>193140000.0</td>\n",
       "    </tr>\n",
       "    <tr>\n",
       "      <th>57</th>\n",
       "      <td>Nandre Burger</td>\n",
       "      <td>Overseas</td>\n",
       "      <td>Bowler</td>\n",
       "      <td>Rajasthan Royals</td>\n",
       "      <td>16650000.0</td>\n",
       "    </tr>\n",
       "    <tr>\n",
       "      <th>58</th>\n",
       "      <td>Tom Kohler-Cadmore</td>\n",
       "      <td>Overseas</td>\n",
       "      <td>Wicket-Keeper</td>\n",
       "      <td>Rajasthan Royals</td>\n",
       "      <td>13320000.0</td>\n",
       "    </tr>\n",
       "    <tr>\n",
       "      <th>59</th>\n",
       "      <td>Abid Mushtaq</td>\n",
       "      <td>Indian</td>\n",
       "      <td>All-Rounder</td>\n",
       "      <td>Rajasthan Royals</td>\n",
       "      <td>6660000.0</td>\n",
       "    </tr>\n",
       "  </tbody>\n",
       "</table>\n",
       "</div>"
      ],
      "text/plain": [
       "                PLAYER NATIONALITY           TYPE              TEAM  \\\n",
       "55       Rovman Powell    Overseas         Batter  Rajasthan Royals   \n",
       "56       Shubham Dubey      Indian         Batter  Rajasthan Royals   \n",
       "57       Nandre Burger    Overseas         Bowler  Rajasthan Royals   \n",
       "58  Tom Kohler-Cadmore    Overseas  Wicket-Keeper  Rajasthan Royals   \n",
       "59        Abid Mushtaq      Indian    All-Rounder  Rajasthan Royals   \n",
       "\n",
       "     PRICE PAID  \n",
       "55  246420000.0  \n",
       "56  193140000.0  \n",
       "57   16650000.0  \n",
       "58   13320000.0  \n",
       "59    6660000.0  "
      ]
     },
     "execution_count": 197,
     "metadata": {},
     "output_type": "execute_result"
    }
   ],
   "source": [
    "Team_players('Rajasthan Royals')"
   ]
  },
  {
   "cell_type": "code",
   "execution_count": 198,
   "id": "469b42ca",
   "metadata": {},
   "outputs": [
    {
     "name": "stdout",
     "output_type": "stream",
     "text": [
      "The total players in Gujarat Titans is 8\n",
      "The total budget of Gujarat Titans is 1008990000.0\n",
      "All-Rounder : 2\n",
      "Batsman : 0\n",
      "Bowler : 5\n",
      "Wicket Keeper : 1\n",
      "The Overseas players are : 2\n",
      "The Indian players are : 6\n",
      "The Highest paid player of Gujarat Titans is ['Spencer Johnson'] earning 333000000.0 Rs and he is an Overseas player\n"
     ]
    },
    {
     "data": {
      "text/html": [
       "<div>\n",
       "<style scoped>\n",
       "    .dataframe tbody tr th:only-of-type {\n",
       "        vertical-align: middle;\n",
       "    }\n",
       "\n",
       "    .dataframe tbody tr th {\n",
       "        vertical-align: top;\n",
       "    }\n",
       "\n",
       "    .dataframe thead th {\n",
       "        text-align: right;\n",
       "    }\n",
       "</style>\n",
       "<table border=\"1\" class=\"dataframe\">\n",
       "  <thead>\n",
       "    <tr style=\"text-align: right;\">\n",
       "      <th></th>\n",
       "      <th>PLAYER</th>\n",
       "      <th>NATIONALITY</th>\n",
       "      <th>TYPE</th>\n",
       "      <th>TEAM</th>\n",
       "      <th>PRICE PAID</th>\n",
       "    </tr>\n",
       "  </thead>\n",
       "  <tbody>\n",
       "    <tr>\n",
       "      <th>15</th>\n",
       "      <td>Spencer Johnson</td>\n",
       "      <td>Overseas</td>\n",
       "      <td>Bowler</td>\n",
       "      <td>Gujarat Titans</td>\n",
       "      <td>333000000.0</td>\n",
       "    </tr>\n",
       "    <tr>\n",
       "      <th>16</th>\n",
       "      <td>Shahrukh Khan</td>\n",
       "      <td>Indian</td>\n",
       "      <td>All-Rounder</td>\n",
       "      <td>Gujarat Titans</td>\n",
       "      <td>246420000.0</td>\n",
       "    </tr>\n",
       "    <tr>\n",
       "      <th>17</th>\n",
       "      <td>Umesh Yadav</td>\n",
       "      <td>Indian</td>\n",
       "      <td>Bowler</td>\n",
       "      <td>Gujarat Titans</td>\n",
       "      <td>193140000.0</td>\n",
       "    </tr>\n",
       "    <tr>\n",
       "      <th>18</th>\n",
       "      <td>Robin Minz</td>\n",
       "      <td>Indian</td>\n",
       "      <td>Wicket-Keeper</td>\n",
       "      <td>Gujarat Titans</td>\n",
       "      <td>119880000.0</td>\n",
       "    </tr>\n",
       "    <tr>\n",
       "      <th>19</th>\n",
       "      <td>Sushant Mishra</td>\n",
       "      <td>Indian</td>\n",
       "      <td>Bowler</td>\n",
       "      <td>Gujarat Titans</td>\n",
       "      <td>73260000.0</td>\n",
       "    </tr>\n",
       "    <tr>\n",
       "      <th>20</th>\n",
       "      <td>Kartik Tyagi</td>\n",
       "      <td>Indian</td>\n",
       "      <td>Bowler</td>\n",
       "      <td>Gujarat Titans</td>\n",
       "      <td>19980000.0</td>\n",
       "    </tr>\n",
       "    <tr>\n",
       "      <th>21</th>\n",
       "      <td>Azmatullah Omarzai</td>\n",
       "      <td>Overseas</td>\n",
       "      <td>All-Rounder</td>\n",
       "      <td>Gujarat Titans</td>\n",
       "      <td>16650000.0</td>\n",
       "    </tr>\n",
       "    <tr>\n",
       "      <th>22</th>\n",
       "      <td>Manav Suthar</td>\n",
       "      <td>Indian</td>\n",
       "      <td>Bowler</td>\n",
       "      <td>Gujarat Titans</td>\n",
       "      <td>6660000.0</td>\n",
       "    </tr>\n",
       "  </tbody>\n",
       "</table>\n",
       "</div>"
      ],
      "text/plain": [
       "                PLAYER NATIONALITY           TYPE            TEAM   PRICE PAID\n",
       "15     Spencer Johnson    Overseas         Bowler  Gujarat Titans  333000000.0\n",
       "16       Shahrukh Khan      Indian    All-Rounder  Gujarat Titans  246420000.0\n",
       "17         Umesh Yadav      Indian         Bowler  Gujarat Titans  193140000.0\n",
       "18          Robin Minz      Indian  Wicket-Keeper  Gujarat Titans  119880000.0\n",
       "19      Sushant Mishra      Indian         Bowler  Gujarat Titans   73260000.0\n",
       "20        Kartik Tyagi      Indian         Bowler  Gujarat Titans   19980000.0\n",
       "21  Azmatullah Omarzai    Overseas    All-Rounder  Gujarat Titans   16650000.0\n",
       "22        Manav Suthar      Indian         Bowler  Gujarat Titans    6660000.0"
      ]
     },
     "execution_count": 198,
     "metadata": {},
     "output_type": "execute_result"
    }
   ],
   "source": [
    "Team_players('Gujarat Titans')"
   ]
  },
  {
   "cell_type": "markdown",
   "id": "25f70c84",
   "metadata": {},
   "source": [
    "## Data Visualization"
   ]
  },
  {
   "cell_type": "code",
   "execution_count": 200,
   "id": "29b8f54e",
   "metadata": {},
   "outputs": [
    {
     "data": {
      "image/png": "[encoded data removed]",
      "text/plain": [
       "<Figure size 432x288 with 1 Axes>"
      ]
     },
     "metadata": {
      "needs_background": "light"
     },
     "output_type": "display_data"
    }
   ],
   "source": [
    "plt.hist(data['NATIONALITY'], bins=10, edgecolor='black')\n",
    "plt.title('NATIONALITY OF PLAYERS IN IPL 2024')\n",
    "plt.xlabel('NATIONALITY')\n",
    "plt.ylabel('PLAYERS')\n",
    "plt.grid(True, color='gray')\n",
    "plt.show()"
   ]
  },
  {
   "cell_type": "code",
   "execution_count": 201,
   "id": "5da03b92",
   "metadata": {},
   "outputs": [
    {
     "data": {
      "image/png": "[encoded data removed]",
      "text/plain": [
       "<Figure size 432x288 with 1 Axes>"
      ]
     },
     "metadata": {
      "needs_background": "light"
     },
     "output_type": "display_data"
    }
   ],
   "source": [
    "plt.hist(data['TYPE'], bins=10, edgecolor='black')\n",
    "plt.title('TYPE OF PLAYERS IN IPL 2024')\n",
    "plt.xlabel('TYPE')\n",
    "plt.ylabel('PLAYERS')\n",
    "plt.grid(True, color='gray')\n",
    "plt.show()"
   ]
  },
  {
   "cell_type": "code",
   "execution_count": 202,
   "id": "8cb9b5f0",
   "metadata": {},
   "outputs": [
    {
     "data": {
      "image/png": "[encoded data removed]",
      "text/plain": [
       "<Figure size 1008x576 with 1 Axes>"
      ]
     },
     "metadata": {
      "needs_background": "light"
     },
     "output_type": "display_data"
    }
   ],
   "source": [
    "plt.figure(figsize=(14, 8))\n",
    "plt.hist(data['TEAM'], bins=20, edgecolor='black')\n",
    "plt.title('TEAMS IN IPL 2024')\n",
    "plt.xlabel('TEAMS')\n",
    "plt.ylabel('PLAYERS')\n",
    "plt.grid(True, color='gray')\n",
    "plt.show()"
   ]
  },
  {
   "cell_type": "code",
   "execution_count": 203,
   "id": "1e8a4a13",
   "metadata": {},
   "outputs": [
    {
     "data": {
      "image/png": "[encoded data removed]",
      "text/plain": [
       "<Figure size 720x432 with 1 Axes>"
      ]
     },
     "metadata": {
      "needs_background": "light"
     },
     "output_type": "display_data"
    }
   ],
   "source": [
    "\n",
    "# Sort the data by 'PRICE PAID' column in descending order\n",
    "top_players = data.sort_values(by='PRICE PAID', ascending=False).head(10)\n",
    "\n",
    "# Create a bar plot to visualize the top 5 players\n",
    "plt.figure(figsize=(10, 6))\n",
    "plt.bar(top_players['PLAYER'], top_players['PRICE PAID'], color='skyblue', edgecolor = 'black')\n",
    "plt.title('TOP 10 PLAYERS BASED ON PRICE PAID')\n",
    "plt.xlabel('PLAYERS')\n",
    "plt.ylabel('PRICE PAID')\n",
    "plt.xticks(rotation=45, ha='right')  # Rotate x-axis labels for better readability\n",
    "plt.grid()\n",
    "plt.show()\n"
   ]
  },
  {
   "cell_type": "code",
   "execution_count": 225,
   "id": "f1a0793a",
   "metadata": {},
   "outputs": [
    {
     "data": {
      "text/plain": [
       "TEAM\n",
       "Kolkata Knight Riders    1.043955e+09\n",
       "Sunrisers Hyderabad      1.025640e+09\n",
       "Chennai Super Kings      1.012320e+09\n",
       "Gujarat Titans           1.008990e+09\n",
       "Punjab Kings             8.308350e+08\n",
       "Name: PRICE PAID, dtype: float64"
      ]
     },
     "execution_count": 225,
     "metadata": {},
     "output_type": "execute_result"
    }
   ],
   "source": [
    "team_budgets = data.groupby('TEAM')['PRICE PAID'].sum()\n",
    "top_teams = team_budgets.sort_values(ascending=False).head()\n",
    "top_teams"
   ]
  },
  {
   "cell_type": "code",
   "execution_count": 259,
   "id": "7869a160",
   "metadata": {},
   "outputs": [
    {
     "data": {
      "text/plain": [
       "Text(0.5, 1.0, 'TOP 5 TEAMS BY TOTAL BUDGET')"
      ]
     },
     "execution_count": 259,
     "metadata": {},
     "output_type": "execute_result"
    },
    {
     "data": {
      "image/png": "[encoded data removed]",
      "text/plain": [
       "<Figure size 936x360 with 1 Axes>"
      ]
     },
     "metadata": {
      "needs_background": "light"
     },
     "output_type": "display_data"
    }
   ],
   "source": [
    "plt.figure(figsize=(13, 5))\n",
    "plt.bar(top_teams.index, top_teams.values, color='skyblue', edgecolor='black')\n",
    "plt.grid()\n",
    "plt.xlabel('TEAMS')\n",
    "plt.ylabel('TOTAL BUDGET')\n",
    "plt.title('TOP 5 TEAMS BY TOTAL BUDGET')"
   ]
  },
  {
   "cell_type": "code",
   "execution_count": 260,
   "id": "7e3158c8",
   "metadata": {},
   "outputs": [
    {
     "data": {
      "text/plain": [
       "TEAM\n",
       "Kolkata Knight Riders    10\n",
       "Delhi Capitals            9\n",
       "Gujarat Titans            8\n",
       "Mumbai Indians            8\n",
       "Punjab Kings              8\n",
       "Name: PLAYER, dtype: int64"
      ]
     },
     "execution_count": 260,
     "metadata": {},
     "output_type": "execute_result"
    }
   ],
   "source": [
    "players = data.groupby('TEAM')['PLAYER'].count()\n",
    "players_sort = players.sort_values(ascending=False).head()\n",
    "players_sort"
   ]
  },
  {
   "cell_type": "code",
   "execution_count": 262,
   "id": "ec741ea2",
   "metadata": {},
   "outputs": [
    {
     "data": {
      "text/plain": [
       "Text(0.5, 1.0, 'TOP 5 TEAMS BY PLAYERS')"
      ]
     },
     "execution_count": 262,
     "metadata": {},
     "output_type": "execute_result"
    },
    {
     "data": {
      "image/png": "[encoded data removed]",
      "text/plain": [
       "<Figure size 1080x504 with 1 Axes>"
      ]
     },
     "metadata": {
      "needs_background": "light"
     },
     "output_type": "display_data"
    }
   ],
   "source": [
    "plt.figure(figsize=(15, 7))\n",
    "plt.bar(players_sort.index, players_sort.values, edgecolor='black')\n",
    "plt.grid()\n",
    "plt.xlabel('TEAMS')\n",
    "plt.ylabel('COUNT OF PLAYERS')\n",
    "plt.title('TOP 5 TEAMS BY PLAYERS')"
   ]
  },
  {
   "cell_type": "code",
   "execution_count": 265,
   "id": "bbc6f2f0",
   "metadata": {},
   "outputs": [
    {
     "data": {
      "image/png": "[encoded data removed]",
      "text/plain": [
       "<Figure size 720x432 with 1 Axes>"
      ]
     },
     "metadata": {
      "needs_background": "light"
     },
     "output_type": "display_data"
    }
   ],
   "source": [
    "\n",
    "# Group data by team\n",
    "grouped_data = data.groupby('TEAM')['PRICE PAID'].apply(list)\n",
    "\n",
    "# Create a box plot to visualize the distribution of budgets among different teams\n",
    "plt.figure(figsize=(10, 6))\n",
    "plt.boxplot(grouped_data.values, labels=grouped_data.index)\n",
    "plt.title('Distribution of Budgets Among Different Teams')\n",
    "plt.xlabel('Team')\n",
    "plt.ylabel('Budget')\n",
    "plt.xticks(rotation=45, ha='right')  # Rotate x-axis labels for better readability\n",
    "plt.tight_layout()\n",
    "plt.show()\n"
   ]
  },
  {
   "cell_type": "markdown",
   "id": "73e673f4",
   "metadata": {},
   "source": [
    "### This is the comprehensive data analysis and visualization of IPL auction 2024!"
   ]
  },
  {
   "cell_type": "markdown",
   "id": "0892d5cd",
   "metadata": {},
   "source": [
    "# THANKS!"
   ]
  }
 ],
 "metadata": {
  "kernelspec": {
   "display_name": "Python 3 (ipykernel)",
   "language": "python",
   "name": "python3"
  },
  "language_info": {
   "codemirror_mode": {
    "name": "ipython",
    "version": 3
   },
   "file_extension": ".py",
   "mimetype": "text/x-python",
   "name": "python",
   "nbconvert_exporter": "python",
   "pygments_lexer": "ipython3",
   "version": "3.9.7"
  }
 },
 "nbformat": 4,
 "nbformat_minor": 5
}
